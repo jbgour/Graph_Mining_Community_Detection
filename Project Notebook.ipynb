{
 "cells": [
  {
   "cell_type": "code",
   "execution_count": 33,
   "metadata": {},
   "outputs": [
    {
     "output_type": "execute_result",
     "data": {
      "text/plain": [
       "import org.apache.spark._\n",
       "import org.apache.spark.graphx._\n",
       "import org.apache.spark.rdd.RDD\n",
       "import org.apache.spark.sql.functions._\n",
       "import org.apache.spark.sql.expressions.Window\n",
       "import org.apache.spark.sql.Row\n",
       "import org.apache.spark.sql.functions.split\n"
      ]
     },
     "metadata": {},
     "execution_count": 33
    }
   ],
   "source": [
    "import org.apache.spark._\n",
    "import org.apache.spark.graphx._\n",
    "import org.apache.spark.rdd.RDD\n",
    "import org.apache.spark.sql.functions._ \n",
    "import org.apache.spark.sql.expressions.Window\n",
    "import org.apache.spark.sql.Row\n",
    "import org.apache.spark.sql.functions.split"
   ]
  },
  {
   "cell_type": "code",
   "execution_count": 34,
   "metadata": {},
   "outputs": [
    {
     "output_type": "execute_result",
     "data": {
      "text/plain": [
       "karate_graph: org.apache.spark.rdd.RDD[String] = data/soc-karate/soc-karate.mtx MapPartitionsRDD[66] at textFile at <console>:51\n"
      ]
     },
     "metadata": {},
     "execution_count": 34
    }
   ],
   "source": [
    "val karate_graph = sc.textFile(\"data/soc-karate/soc-karate.mtx\")\n"
   ]
  },
  {
   "cell_type": "code",
   "execution_count": 35,
   "metadata": {},
   "outputs": [
    {
     "output_type": "execute_result",
     "data": {
      "text/plain": [
       "df_karate: org.apache.spark.sql.DataFrame = [value: string, id: bigint]\n"
      ]
     },
     "metadata": {},
     "execution_count": 35
    }
   ],
   "source": [
    "var df_karate = karate_graph.toDF.withColumn(\"id\",monotonicallyIncreasingId)\n"
   ]
  },
  {
   "cell_type": "code",
   "execution_count": 36,
   "metadata": {},
   "outputs": [
    {
     "output_type": "execute_result",
     "data": {
      "text/plain": [
       "df_karate: org.apache.spark.sql.DataFrame = [value: string, id: bigint ... 1 more field]\n"
      ]
     },
     "metadata": {},
     "execution_count": 36
    }
   ],
   "source": [
    "df_karate = df_karate.withColumn(\"rank\", row_number().over(Window.orderBy(\"id\")))"
   ]
  },
  {
   "cell_type": "code",
   "execution_count": 37,
   "metadata": {},
   "outputs": [
    {
     "output_type": "stream",
     "name": "stdout",
     "text": [
      "+--------------------------------------------------------------------------------+----------+----+\n|value                                                                           |id        |rank|\n+--------------------------------------------------------------------------------+----------+----+\n|%%MatrixMarket matrix coordinate pattern symmetric                              |0         |1   |\n|%-------------------------------------------------------------------------------|1         |2   |\n|% UF Sparse Matrix Collection, Tim Davis                                        |2         |3   |\n|% http://www.cise.ufl.edu/research/sparse/matrices/Newman/karate                |3         |4   |\n|% name: Newman/karate                                                           |4         |5   |\n|% [Karate club, from Wayne Zachary, 1977]                                       |5         |6   |\n|% id: 2399                                                                      |6         |7   |\n|% date: 1977                                                                    |7         |8   |\n|% author: W. Zachary                                                            |8         |9   |\n|% ed: M. Newman                                                                 |9         |10  |\n|% fields: name title A id date author kind notes ed                             |10        |11  |\n|% kind: undirected graph                                                        |11        |12  |\n|%-------------------------------------------------------------------------------|12        |13  |\n|% notes:                                                                        |13        |14  |\n|% Network collection from M. Newman                                             |14        |15  |\n|% http://www-personal.umich.edu/~mejn/netdata/                                  |15        |16  |\n|%                                                                               |16        |17  |\n|% The graph \"karate\" contains the network of friendships between the 34         |17        |18  |\n|% members of a karate club at a US university, as described by Wayne Zachary    |8589934592|19  |\n|% in 1977.  If you use these data in your work, please cite W. W. Zachary, An   |8589934593|20  |\n|% information flow model for conflict and fission in small groups, Journal of   |8589934594|21  |\n|% Anthropological Research 33, 452-473 (1977).                                  |8589934595|22  |\n|%-------------------------------------------------------------------------------|8589934596|23  |\n|34 34 78                                                                        |8589934597|24  |\n|2 1                                                                             |8589934598|25  |\n|3 1                                                                             |8589934599|26  |\n|4 1                                                                             |8589934600|27  |\n|5 1                                                                             |8589934601|28  |\n|6 1                                                                             |8589934602|29  |\n|7 1                                                                             |8589934603|30  |\n+--------------------------------------------------------------------------------+----------+----+\nonly showing top 30 rows\n\n"
     ]
    }
   ],
   "source": [
    "df_karate.show(30,false)"
   ]
  },
  {
   "cell_type": "code",
   "execution_count": 38,
   "metadata": {},
   "outputs": [
    {
     "output_type": "execute_result",
     "data": {
      "text/plain": [
       "df_karate: org.apache.spark.sql.DataFrame = [value: string, id: bigint ... 1 more field]\n"
      ]
     },
     "metadata": {},
     "execution_count": 38
    }
   ],
   "source": [
    "df_karate = df_karate.filter(df_karate(\"rank\")>24)"
   ]
  },
  {
   "cell_type": "code",
   "execution_count": 39,
   "metadata": {},
   "outputs": [
    {
     "output_type": "execute_result",
     "data": {
      "text/plain": [
       "df_karate: org.apache.spark.sql.DataFrame = [value: string]\n"
      ]
     },
     "metadata": {},
     "execution_count": 39
    }
   ],
   "source": [
    "df_karate = df_karate.drop(\"id\",\"rank\")"
   ]
  },
  {
   "cell_type": "code",
   "execution_count": 40,
   "metadata": {},
   "outputs": [
    {
     "output_type": "execute_result",
     "data": {
      "text/plain": [
       "df_karate_splitted: org.apache.spark.sql.DataFrame = [srcId: string, dstID: string]\n"
      ]
     },
     "metadata": {},
     "execution_count": 40
    }
   ],
   "source": [
    "val df_karate_splitted = df_karate.withColumn(\"_tmp\", split($\"value\", \"\\\\ \")).select(\n",
    "  $\"_tmp\".getItem(0).as(\"srcId\"),\n",
    "  $\"_tmp\".getItem(1).as(\"dstID\"),\n",
    ")"
   ]
  },
  {
   "cell_type": "code",
   "execution_count": 41,
   "metadata": {},
   "outputs": [
    {
     "output_type": "execute_result",
     "data": {
      "text/plain": [
       "rows: org.apache.spark.rdd.RDD[org.apache.spark.sql.Row] = MapPartitionsRDD[84] at rdd at <console>:52\n"
      ]
     },
     "metadata": {},
     "execution_count": 41
    }
   ],
   "source": [
    "val rows: RDD[Row] = df_karate_splitted.rdd"
   ]
  },
  {
   "cell_type": "code",
   "execution_count": 42,
   "metadata": {},
   "outputs": [
    {
     "output_type": "execute_result",
     "data": {
      "text/plain": [
       "a: org.apache.spark.rdd.RDD[org.apache.spark.graphx.Edge[String]] = MapPartitionsRDD[85] at map at <console>:55\n",
       "default_user: (String, String) = (Default user,Missing value)\n",
       "graph: org.apache.spark.graphx.Graph[(String, String),String] = org.apache.spark.graphx.impl.GraphImpl@5d5aaccc\n"
      ]
     },
     "metadata": {},
     "execution_count": 42
    }
   ],
   "source": [
    "var a= rows.map{ case Row(src:String, dist : String) => Edge(src.toLong, dist.toLong,\"friend\")}\n",
    "var default_user=(\"Default user\", \"Missing value\")\n",
    "var graph = Graph.fromEdges(a, default_user)"
   ]
  },
  {
   "cell_type": "code",
   "execution_count": 43,
   "metadata": {},
   "outputs": [
    {
     "output_type": "execute_result",
     "data": {
      "text/plain": [
       "res7: Array[org.apache.spark.graphx.Edge[String]] = Array(Edge(2,1,friend), Edge(3,1,friend), Edge(3,2,friend), Edge(4,1,friend), Edge(4,2,friend), Edge(4,3,friend), Edge(5,1,friend), Edge(6,1,friend), Edge(7,1,friend), Edge(7,5,friend), Edge(7,6,friend), Edge(8,1,friend), Edge(8,2,friend), Edge(8,3,friend), Edge(8,4,friend), Edge(9,1,friend), Edge(9,3,friend), Edge(10,3,friend), Edge(11,1,friend), Edge(11,5,friend), Edge(11,6,friend), Edge(12,1,friend), Edge(13,1,friend), Edge(13,4,friend), Edge(14,1,friend), Edge(14,2,friend), Edge(14,3,friend), Edge(14,4,friend), Edge(17,6,friend), Edge(17,7,friend), Edge(18,1,friend), Edge(18,2,friend), Edge(20,1,friend), Edge(20,2,friend), Edge(22,1,friend), Edge(22,2,friend), Edge(26,24,friend), Edge(26,25,friend), Edge(28,3,friend), Edge(28,24,fr...\n"
      ]
     },
     "metadata": {},
     "execution_count": 43
    }
   ],
   "source": [
    "graph.edges.collect()"
   ]
  }
 ],
 "metadata": {
  "kernelspec": {
   "display_name": "spylon-kernel",
   "language": "scala",
   "name": "spylon-kernel"
  },
  "language_info": {
   "codemirror_mode": "text/x-scala",
   "file_extension": ".scala",
   "help_links": [
    {
     "text": "MetaKernel Magics",
     "url": "https://metakernel.readthedocs.io/en/latest/source/README.html"
    }
   ],
   "mimetype": "text/x-scala",
   "name": "scala",
   "pygments_lexer": "scala",
   "version": "0.4.1"
  }
 },
 "nbformat": 4,
 "nbformat_minor": 4
}