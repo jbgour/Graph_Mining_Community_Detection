{
 "cells": [
  {
   "cell_type": "code",
   "execution_count": 1,
   "metadata": {},
   "outputs": [
    {
     "output_type": "display_data",
     "data": {
      "text/plain": "Intitializing Scala interpreter ..."
     },
     "metadata": {}
    },
    {
     "output_type": "display_data",
     "data": {
      "text/plain": "Spark Web UI available at http://mbp-de-gregoire:4044\nSparkContext available as 'sc' (version = 3.0.1, master = local[*], app id = local-1618492427417)\nSparkSession available as 'spark'\n"
     },
     "metadata": {}
    },
    {
     "output_type": "execute_result",
     "data": {
      "text/plain": [
       "import org.apache.spark._\n",
       "import org.apache.spark.graphx._\n",
       "import org.apache.spark.rdd.RDD\n",
       "import org.apache.spark.sql.functions._\n",
       "import org.apache.spark.sql.expressions.Window\n",
       "import org.apache.spark.sql.Row\n",
       "import org.apache.spark.sql.functions.split\n"
      ]
     },
     "metadata": {},
     "execution_count": 1
    }
   ],
   "source": [
    "import org.apache.spark._\n",
    "import org.apache.spark.graphx._\n",
    "import org.apache.spark.rdd.RDD\n",
    "import org.apache.spark.sql.functions._ \n",
    "import org.apache.spark.sql.expressions.Window\n",
    "import org.apache.spark.sql.Row\n",
    "import org.apache.spark.sql.functions.split"
   ]
  },
  {
   "cell_type": "markdown",
   "metadata": {},
   "source": [
    "## Load des données"
   ]
  },
  {
   "cell_type": "code",
   "execution_count": 2,
   "metadata": {},
   "outputs": [
    {
     "output_type": "execute_result",
     "data": {
      "text/plain": [
       "karate_graph: org.apache.spark.rdd.RDD[String] = data/soc-karate/soc-karate.mtx MapPartitionsRDD[1] at textFile at <console>:38\n"
      ]
     },
     "metadata": {},
     "execution_count": 2
    }
   ],
   "source": [
    "val karate_graph = sc.textFile(\"data/soc-karate/soc-karate.mtx\")\n"
   ]
  },
  {
   "cell_type": "markdown",
   "metadata": {},
   "source": [
    "## Preprocess"
   ]
  },
  {
   "cell_type": "code",
   "execution_count": 3,
   "metadata": {},
   "outputs": [
    {
     "output_type": "execute_result",
     "data": {
      "text/plain": [
       "df_karate: org.apache.spark.sql.DataFrame = [value: string, id: bigint]\n"
      ]
     },
     "metadata": {},
     "execution_count": 3
    }
   ],
   "source": [
    "var df_karate = karate_graph.toDF.withColumn(\"id\",monotonicallyIncreasingId)\n"
   ]
  },
  {
   "cell_type": "code",
   "execution_count": 4,
   "metadata": {},
   "outputs": [
    {
     "output_type": "execute_result",
     "data": {
      "text/plain": [
       "df_karate: org.apache.spark.sql.DataFrame = [value: string, id: bigint ... 1 more field]\n"
      ]
     },
     "metadata": {},
     "execution_count": 4
    }
   ],
   "source": [
    "df_karate = df_karate.withColumn(\"rank\", row_number().over(Window.orderBy(\"id\")))"
   ]
  },
  {
   "cell_type": "code",
   "execution_count": 5,
   "metadata": {},
   "outputs": [
    {
     "output_type": "stream",
     "name": "stdout",
     "text": [
      "+--------------------------------------------------------------------------------+----------+----+\n|value                                                                           |id        |rank|\n+--------------------------------------------------------------------------------+----------+----+\n|%%MatrixMarket matrix coordinate pattern symmetric                              |0         |1   |\n|%-------------------------------------------------------------------------------|1         |2   |\n|% UF Sparse Matrix Collection, Tim Davis                                        |2         |3   |\n|% http://www.cise.ufl.edu/research/sparse/matrices/Newman/karate                |3         |4   |\n|% name: Newman/karate                                                           |4         |5   |\n|% [Karate club, from Wayne Zachary, 1977]                                       |5         |6   |\n|% id: 2399                                                                      |6         |7   |\n|% date: 1977                                                                    |7         |8   |\n|% author: W. Zachary                                                            |8         |9   |\n|% ed: M. Newman                                                                 |9         |10  |\n|% fields: name title A id date author kind notes ed                             |10        |11  |\n|% kind: undirected graph                                                        |11        |12  |\n|%-------------------------------------------------------------------------------|12        |13  |\n|% notes:                                                                        |13        |14  |\n|% Network collection from M. Newman                                             |14        |15  |\n|% http://www-personal.umich.edu/~mejn/netdata/                                  |15        |16  |\n|%                                                                               |16        |17  |\n|% The graph \"karate\" contains the network of friendships between the 34         |17        |18  |\n|% members of a karate club at a US university, as described by Wayne Zachary    |8589934592|19  |\n|% in 1977.  If you use these data in your work, please cite W. W. Zachary, An   |8589934593|20  |\n|% information flow model for conflict and fission in small groups, Journal of   |8589934594|21  |\n|% Anthropological Research 33, 452-473 (1977).                                  |8589934595|22  |\n|%-------------------------------------------------------------------------------|8589934596|23  |\n|34 34 78                                                                        |8589934597|24  |\n|2 1                                                                             |8589934598|25  |\n|3 1                                                                             |8589934599|26  |\n|4 1                                                                             |8589934600|27  |\n|5 1                                                                             |8589934601|28  |\n|6 1                                                                             |8589934602|29  |\n|7 1                                                                             |8589934603|30  |\n+--------------------------------------------------------------------------------+----------+----+\nonly showing top 30 rows\n\n"
     ]
    }
   ],
   "source": [
    "df_karate.show(30,false)"
   ]
  },
  {
   "cell_type": "code",
   "execution_count": 6,
   "metadata": {
    "scrolled": true
   },
   "outputs": [
    {
     "output_type": "execute_result",
     "data": {
      "text/plain": [
       "df_karate: org.apache.spark.sql.DataFrame = [value: string, id: bigint ... 1 more field]\n"
      ]
     },
     "metadata": {},
     "execution_count": 6
    }
   ],
   "source": [
    "df_karate = df_karate.filter(df_karate(\"rank\")>24)"
   ]
  },
  {
   "cell_type": "code",
   "execution_count": 7,
   "metadata": {},
   "outputs": [
    {
     "output_type": "execute_result",
     "data": {
      "text/plain": [
       "df_karate: org.apache.spark.sql.DataFrame = [value: string]\n"
      ]
     },
     "metadata": {},
     "execution_count": 7
    }
   ],
   "source": [
    "df_karate = df_karate.drop(\"id\",\"rank\")"
   ]
  },
  {
   "cell_type": "code",
   "execution_count": 8,
   "metadata": {},
   "outputs": [
    {
     "output_type": "execute_result",
     "data": {
      "text/plain": [
       "df_karate_splitted: org.apache.spark.sql.DataFrame = [srcId: string, dstID: string]\n"
      ]
     },
     "metadata": {},
     "execution_count": 8
    }
   ],
   "source": [
    "val df_karate_splitted = df_karate.withColumn(\"_tmp\", split($\"value\", \"\\\\ \")).select(\n",
    "  $\"_tmp\".getItem(0).as(\"srcId\"),\n",
    "  $\"_tmp\".getItem(1).as(\"dstID\"),\n",
    ")"
   ]
  },
  {
   "cell_type": "code",
   "execution_count": 9,
   "metadata": {},
   "outputs": [
    {
     "output_type": "execute_result",
     "data": {
      "text/plain": [
       "rows: org.apache.spark.rdd.RDD[org.apache.spark.sql.Row] = MapPartitionsRDD[19] at rdd at <console>:39\n"
      ]
     },
     "metadata": {},
     "execution_count": 9
    }
   ],
   "source": [
    "val rows: RDD[Row] = df_karate_splitted.rdd"
   ]
  },
  {
   "cell_type": "markdown",
   "metadata": {},
   "source": [
    "## Creation du graphe"
   ]
  },
  {
   "cell_type": "code",
   "execution_count": 10,
   "metadata": {},
   "outputs": [
    {
     "output_type": "execute_result",
     "data": {
      "text/plain": [
       "a: org.apache.spark.rdd.RDD[org.apache.spark.graphx.Edge[Int]] = MapPartitionsRDD[20] at map at <console>:39\n",
       "default_user: (Int, Int) = (0,0)\n",
       "graph: org.apache.spark.graphx.Graph[(Int, Int),Int] = org.apache.spark.graphx.impl.GraphImpl@41911ee7\n"
      ]
     },
     "metadata": {},
     "execution_count": 10
    }
   ],
   "source": [
    "var a= rows.map{ case Row(src:String, dist : String) => Edge(src.toLong, dist.toLong,1)}\n",
    "var default_user=(0, 0)\n",
    "var graph = Graph.fromEdges(a, default_user)"
   ]
  },
  {
   "cell_type": "code",
   "execution_count": 11,
   "metadata": {
    "scrolled": true
   },
   "outputs": [
    {
     "output_type": "execute_result",
     "data": {
      "text/plain": [
       "res1: Array[org.apache.spark.graphx.Edge[Int]] = Array(Edge(2,1,1), Edge(3,1,1), Edge(3,2,1), Edge(4,1,1), Edge(4,2,1), Edge(4,3,1), Edge(5,1,1), Edge(6,1,1), Edge(7,1,1), Edge(7,5,1), Edge(7,6,1), Edge(8,1,1), Edge(8,2,1), Edge(8,3,1), Edge(8,4,1), Edge(9,1,1), Edge(9,3,1), Edge(10,3,1), Edge(11,1,1), Edge(11,5,1), Edge(11,6,1), Edge(12,1,1), Edge(13,1,1), Edge(13,4,1), Edge(14,1,1), Edge(14,2,1), Edge(14,3,1), Edge(14,4,1), Edge(17,6,1), Edge(17,7,1), Edge(18,1,1), Edge(18,2,1), Edge(20,1,1), Edge(20,2,1), Edge(22,1,1), Edge(22,2,1), Edge(26,24,1), Edge(26,25,1), Edge(28,3,1), Edge(28,24,1), Edge(28,25,1), Edge(29,3,1), Edge(30,24,1), Edge(30,27,1), Edge(31,2,1), Edge(31,9,1), Edge(32,1,1), Edge(32,25,1), Edge(32,26,1), Edge(32,29,1), Edge(33,3,1), Edge(33,9,1), Edge(33,15,1), Edge(33...\n"
      ]
     },
     "metadata": {},
     "execution_count": 11
    }
   ],
   "source": [
    "graph.edges.collect()"
   ]
  },
  {
   "cell_type": "code",
   "execution_count": 12,
   "metadata": {},
   "outputs": [
    {
     "output_type": "execute_result",
     "data": {
      "text/plain": [
       "res2: Array[(org.apache.spark.graphx.VertexId, (Int, Int))] = Array((20,(0,0)), (13,(0,0)), (19,(0,0)), (34,(0,0)), (15,(0,0)), (4,(0,0)), (21,(0,0)), (16,(0,0)), (22,(0,0)), (25,(0,0)), (28,(0,0)), (29,(0,0)), (11,(0,0)), (14,(0,0)), (32,(0,0)), (30,(0,0)), (24,(0,0)), (27,(0,0)), (33,(0,0)), (23,(0,0)), (1,(0,0)), (6,(0,0)), (17,(0,0)), (3,(0,0)), (7,(0,0)), (9,(0,0)), (8,(0,0)), (12,(0,0)), (18,(0,0)), (31,(0,0)), (26,(0,0)), (10,(0,0)), (5,(0,0)), (2,(0,0)))\n"
      ]
     },
     "metadata": {},
     "execution_count": 12
    }
   ],
   "source": [
    "graph.vertices.collect()"
   ]
  },
  {
   "cell_type": "code",
   "execution_count": 13,
   "metadata": {},
   "outputs": [
    {
     "output_type": "execute_result",
     "data": {
      "text/plain": [
       "newgraph: org.apache.spark.graphx.Graph[(org.apache.spark.graphx.VertexId, Int),Int] = org.apache.spark.graphx.impl.GraphImpl@4f6d1cc6\n"
      ]
     },
     "metadata": {},
     "execution_count": 13
    }
   ],
   "source": [
    "val newgraph = graph.outerJoinVertices(graph.degrees)((index,_,deg) => (index,deg.get))"
   ]
  },
  {
   "cell_type": "code",
   "execution_count": 14,
   "metadata": {},
   "outputs": [
    {
     "output_type": "execute_result",
     "data": {
      "text/plain": [
       "res3: Array[org.apache.spark.graphx.EdgeTriplet[(org.apache.spark.graphx.VertexId, Int),Int]] = Array(((2,(2,9)),(1,(1,16)),1), ((3,(3,10)),(1,(1,16)),1), ((3,(3,10)),(2,(2,9)),1), ((4,(4,6)),(1,(1,16)),1), ((4,(4,6)),(2,(2,9)),1), ((4,(4,6)),(3,(3,10)),1), ((5,(5,3)),(1,(1,16)),1), ((6,(6,4)),(1,(1,16)),1), ((7,(7,4)),(1,(1,16)),1), ((7,(7,4)),(5,(5,3)),1), ((7,(7,4)),(6,(6,4)),1), ((8,(8,4)),(1,(1,16)),1), ((8,(8,4)),(2,(2,9)),1), ((8,(8,4)),(3,(3,10)),1), ((8,(8,4)),(4,(4,6)),1), ((9,(9,5)),(1,(1,16)),1), ((9,(9,5)),(3,(3,10)),1), ((10,(10,2)),(3,(3,10)),1), ((11,(11,3)),(1,(1,16)),1), ((11,(11,3)),(5,(5,3)),1), ((11,(11,3)),(6,(6,4)),1), ((12,(12,1)),(1,(1,16)),1), ((13,(13,2)),(1,(1,16)),1), ((13,(13,2)),(4,(4,6)),1), ((14,(14,5)),(1,(1,16)),1), ((14,(14,5)),(2,(2,9)),1), ((14,(14,...\n"
      ]
     },
     "metadata": {},
     "execution_count": 14
    }
   ],
   "source": [
    "newgraph.triplets.collect()"
   ]
  },
  {
   "cell_type": "code",
   "execution_count": 15,
   "metadata": {},
   "outputs": [
    {
     "output_type": "execute_result",
     "data": {
      "text/plain": [
       "res4: Array[(org.apache.spark.graphx.VertexId, (org.apache.spark.graphx.VertexId, Int))] = Array((20,(20,3)), (13,(13,2)), (19,(19,2)), (34,(34,17)), (15,(15,2)), (4,(4,6)), (21,(21,2)), (16,(16,2)), (22,(22,2)), (25,(25,3)), (28,(28,4)), (29,(29,3)), (11,(11,3)), (14,(14,5)), (32,(32,6)), (30,(30,4)), (24,(24,5)), (27,(27,2)), (33,(33,12)), (23,(23,2)), (1,(1,16)), (6,(6,4)), (17,(17,2)), (3,(3,10)), (7,(7,4)), (9,(9,5)), (8,(8,4)), (12,(12,1)), (18,(18,2)), (31,(31,4)), (26,(26,3)), (10,(10,2)), (5,(5,3)), (2,(2,9)))\n"
      ]
     },
     "metadata": {},
     "execution_count": 15
    }
   ],
   "source": [
    "newgraph.vertices.collect()"
   ]
  },
  {
   "cell_type": "code",
   "execution_count": 16,
   "metadata": {},
   "outputs": [
    {
     "output_type": "execute_result",
     "data": {
      "text/plain": [
       "sigmaIn2: (comId: Long, graph: org.apache.spark.graphx.Graph[(Long, Int),Int])Double\n",
       "kiin2: (i: Long, comId: Long, graph: org.apache.spark.graphx.Graph[(Long, Int),Int])Double\n",
       "sigmaTot2: (comId: Long, graph: org.apache.spark.graphx.Graph[(Long, Int),Int])Double\n"
      ]
     },
     "metadata": {},
     "execution_count": 16
    }
   ],
   "source": [
    "def sigmaIn2(comId: Long, graph : Graph[(Long, Int),Int]): Double = {\n",
    "    var graphVar = graph.triplets.filter((triplet => triplet.srcAttr._1==comId && triplet.dstAttr._1==comId))\n",
    "    return graphVar.count.toDouble\n",
    "}\n",
    "\n",
    "def kiin2(i:Long, comId : Long, graph : Graph[(Long, Int),Int]) : Double = {\n",
    "    var graphVar = graph.triplets.filter((triplet => (triplet.srcAttr._1==i && triplet.dstAttr._1==comId) ||(triplet.srcAttr._1==comId && triplet.dstAttr._1==i)))\n",
    "    return graphVar.count.toDouble\n",
    "}\n",
    "\n",
    "def sigmaTot2(comId: Long, graph : Graph[(Long, Int),Int]): Double = {\n",
    "    var graphVar = graph.triplets.filter((triplet => (triplet.srcAttr._1==comId && triplet.dstAttr._1!=comId)||(triplet.srcAttr._1!=comId && triplet.dstAttr._1==comId)))\n",
    "    return graphVar.count.toDouble\n",
    "}"
   ]
  },
  {
   "cell_type": "code",
   "execution_count": 17,
   "metadata": {},
   "outputs": [
    {
     "output_type": "execute_result",
     "data": {
      "text/plain": [
       "sigmaIn1: (i: Long, comId: Long, graph: org.apache.spark.graphx.Graph[(Long, Int),Int])Double\n",
       "sigmaTot1: (i: Long, comId: Long, graph: org.apache.spark.graphx.Graph[(Long, Int),Int])Double\n"
      ]
     },
     "metadata": {},
     "execution_count": 17
    }
   ],
   "source": [
    "def sigmaIn1(i:Long, comId: Long, graph : Graph[(Long, Int),Int]): Double = {\n",
    "    var graphVar = graph.triplets.filter((triplet => (triplet.srcAttr._1==comId && triplet.dstAttr._1==comId) &&\n",
    "                                                    !(triplet.srcId==i || triplet.dstId==i)))\n",
    "    return graphVar.count.toDouble\n",
    "\n",
    "}\n",
    "\n",
    "\n",
    "def sigmaTot1(i:Long, comId: Long, graph : Graph[(Long, Int),Int]): Double = {\n",
    "    var graphVar = graph.triplets.filter((triplet => (triplet.srcAttr._1==comId && triplet.dstAttr._1!=comId)||(triplet.srcAttr._1!=comId && triplet.dstAttr._1==comId) && !(triplet.srcId==i || triplet.dstId==i)))\n",
    "    return graphVar.count.toDouble\n",
    "}"
   ]
  },
  {
   "cell_type": "code",
   "execution_count": 18,
   "metadata": {},
   "outputs": [
    {
     "output_type": "execute_result",
     "data": {
      "text/plain": [
       "ki: (i: Long, graph: org.apache.spark.graphx.Graph[(Long, Int),Int])Double\n",
       "kiin: (i: Long, comId: Long, graph: org.apache.spark.graphx.Graph[(Long, Int),Int])Double\n"
      ]
     },
     "metadata": {},
     "execution_count": 18
    }
   ],
   "source": [
    "def ki(i: Long, graph : Graph[(Long, Int),Int]): Double = {\n",
    "    var graphVar = graph.triplets.filter((triplet => triplet.srcId==i || triplet.dstId==i))\n",
    "    return graphVar.count.toDouble\n",
    "}\n",
    "\n",
    "def kiin(i:Long, comId : Long, graph : Graph[(Long, Int),Int]) : Double = {\n",
    "    var graphVar = graph.triplets.filter((triplet => (triplet.srcAttr._1==i && triplet.dstAttr._1==comId) ||(triplet.srcAttr._1==comId && triplet.dstAttr._1==i)))\n",
    "    return graphVar.count.toDouble\n",
    "}"
   ]
  },
  {
   "cell_type": "code",
   "execution_count": 32,
   "metadata": {},
   "outputs": [
    {
     "output_type": "execute_result",
     "data": {
      "text/plain": [
       "dq: (sigmain: Double, sigmatot: Double, kivar: Double, kiinvar: Double, m: Long)Double\n"
      ]
     },
     "metadata": {},
     "execution_count": 32
    }
   ],
   "source": [
    "def dq(sigmain:Double, sigmatot:Double, kivar:Double, kiinvar:Double, m:Long):Double = {\n",
    "    return (((sigmain+kiinvar)/(2*m) - scala.math.pow((sigmatot+kivar)/(2*m),2)) - (sigmain/(2*m) - scala.math.pow(sigmatot/(2*m),2) - scala.math.pow(kivar/(2*m),2)))\n",
    "}"
   ]
  },
  {
   "cell_type": "code",
   "execution_count": 23,
   "metadata": {},
   "outputs": [
    {
     "output_type": "execute_result",
     "data": {
      "text/plain": [
       "maxCom: (setDq: Set[(Int, Double)])(Int, Double)\n"
      ]
     },
     "metadata": {},
     "execution_count": 23
    }
   ],
   "source": [
    "def maxCom(setDq : Set[(Int, Double)]) : (Int, Double) = {\n",
    "    var max = -1000.0\n",
    "    var ind = -1\n",
    "    setDq.foreach(x => {\n",
    "        if (x._2>max)\n",
    "        {\n",
    "            ind=x._1\n",
    "            max=x._2\n",
    "        }\n",
    "    })\n",
    "    return (ind,max)\n",
    "}"
   ]
  },
  {
   "cell_type": "code",
   "execution_count": 24,
   "metadata": {},
   "outputs": [
    {
     "output_type": "execute_result",
     "data": {
      "text/plain": [
       "res6: (Int, Double) = (12,0.007560815253122938)\n"
      ]
     },
     "metadata": {},
     "execution_count": 24
    }
   ],
   "source": [
    "maxCom(setDq)"
   ]
  },
  {
   "cell_type": "code",
   "execution_count": 25,
   "metadata": {},
   "outputs": [
    {
     "output_type": "execute_result",
     "data": {
      "text/plain": [
       "mooveItoC: (i: Int, comId: Int, graph: org.apache.spark.graphx.Graph[(org.apache.spark.graphx.VertexId, Int),Int])org.apache.spark.graphx.Graph[(org.apache.spark.graphx.VertexId, Int),Int]\n"
      ]
     },
     "metadata": {},
     "execution_count": 25
    }
   ],
   "source": [
    "def mooveItoC(i:Int, comId : Int, graph:Graph[(VertexId, Int),Int]) : Graph[(VertexId, Int),Int] = {\n",
    "    val newVertices = graph.mapVertices { case (id, attr) => if (id==i) (comId.toLong, attr._2) else attr }\n",
    "    return newVertices\n",
    "}"
   ]
  },
  {
   "cell_type": "code",
   "execution_count": 42,
   "metadata": {},
   "outputs": [
    {
     "output_type": "execute_result",
     "data": {
      "text/plain": [
       "communities: (graph: org.apache.spark.graphx.Graph[(Long, Int),Int])org.apache.spark.graphx.Graph[(Long, Int),Int]\n"
      ]
     },
     "metadata": {},
     "execution_count": 42
    }
   ],
   "source": [
    "def communities(graph:Graph[(Long,Int),Int]) : Graph[(Long,Int),Int] = {\n",
    "    var currentGraph = graph\n",
    "    var nbVertices = graph.vertices.count\n",
    "    var m = graph.edges.count\n",
    "\n",
    "    var i = 0\n",
    "    var keepGoing = true\n",
    "    var j=0\n",
    "    for (j <- 1 to 10){\n",
    "        println(j)\n",
    "        keepGoing=false\n",
    "        println(((currentGraph.vertices.collect { case t => t._2._1 }).collect.distinct).size)\n",
    "        for (i<- 1 to nbVertices.toInt){\n",
    "            println(\"Noeud considéré : \"+i+ '\\n')\n",
    "            /*get the community and ki */\n",
    "            var vertice = (currentGraph.vertices.collect{ case t if t._1 == i => t._2}).collect\n",
    "            var comId = vertice(0)._1.toInt\n",
    "            println(\"Communauté de \"+i+\" : \"+comId)\n",
    "            var kivar = vertice(0)._2\n",
    "\n",
    "            /* calculate dq1 */\n",
    "            var kiin1 = kiin(i, comId, currentGraph)\n",
    "            var simgain1 = sigmaIn1(i, comId, currentGraph)\n",
    "            var simgatot1 = sigmaTot1(i, comId, currentGraph)\n",
    "            var dq1 = dq(sigmain1, sigmatot1, kivar, kiin1, m)\n",
    "\n",
    "            /*look all combis : we need to know how many communities are left and which one*/\n",
    "            var communities = (currentGraph.vertices.collect { case t => t._2._1 }).collect.distinct\n",
    "\n",
    "            var setDq =Set(): Set[(Int,Double)]\n",
    "            communities.foreach( a => {\n",
    "                if (a!=comId){\n",
    "                    var sigmain2 = sigmaIn2(a, newgraph)\n",
    "                    var sigmatot2 = sigmaTot2(a, newgraph)\n",
    "                    var kiin2 = kiin(i,a, newgraph)\n",
    "                    var dq2 = dq(sigmain2, sigmatot2, kivar, kiin2, m)\n",
    "                    setDq+=((a.toInt,dq2))\n",
    "                }\n",
    "            })\n",
    "\n",
    "            /* get best combi and moove if larger than 0 */\n",
    "            var bestCombi = maxCom(setDq)\n",
    "            if (bestCombi._2 > 0 ) {\n",
    "                \n",
    "                var communities = (currentGraph.vertices.collect { case t => t._2._1 }).collect.distinct\n",
    "                println(\"On met \"+ i +\" dans \"+bestCombi._1+ '\\n')\n",
    "                var updatedGraph = mooveItoC(i, bestCombi._1, currentGraph)\n",
    "                currentGraph=updatedGraph\n",
    "\n",
    "                /*Un changement est fait*/\n",
    "                keepGoing=true\n",
    "\n",
    "            }\n",
    "            \n",
    "    }\n",
    "    println(((currentGraph.vertices.collect { case t => t._2._1 }).collect.distinct).size)\n",
    "    }\n",
    "    return currentGraph\n",
    "}"
   ]
  },
  {
   "cell_type": "code",
   "execution_count": 43,
   "metadata": {},
   "outputs": [
    {
     "output_type": "stream",
     "name": "stdout",
     "text": [
      "1\n",
      "34\n",
      "Noeud considéré : 1\n",
      "\n",
      "Communauté de 1 : 1\n",
      "On met 1 dans 12\n",
      "\n",
      "Noeud considéré : 2\n",
      "\n",
      "Communauté de 2 : 2\n",
      "On met 2 dans 22\n",
      "\n",
      "Noeud considéré : 3\n",
      "\n",
      "Communauté de 3 : 3\n",
      "On met 3 dans 10\n",
      "\n",
      "Noeud considéré : 4\n",
      "\n",
      "Communauté de 4 : 4\n",
      "On met 4 dans 13\n",
      "\n",
      "Noeud considéré : 5\n",
      "\n",
      "Communauté de 5 : 5\n",
      "On met 5 dans 11\n",
      "\n",
      "Noeud considéré : 6\n",
      "\n",
      "Communauté de 6 : 6\n",
      "On met 6 dans 17\n",
      "\n",
      "Noeud considéré : 7\n",
      "\n",
      "Communauté de 7 : 7\n",
      "On met 7 dans 17\n",
      "\n",
      "Noeud considéré : 8\n",
      "\n",
      "Communauté de 8 : 8\n",
      "Noeud considéré : 9\n",
      "\n",
      "Communauté de 9 : 9\n",
      "On met 9 dans 31\n",
      "\n",
      "Noeud considéré : 10\n",
      "\n",
      "Communauté de 10 : 10\n",
      "On met 10 dans 34\n",
      "\n",
      "Noeud considéré : 11\n",
      "\n",
      "Communauté de 11 : 11\n",
      "Noeud considéré : 12\n",
      "\n",
      "Communauté de 12 : 12\n",
      "Noeud considéré : 13\n",
      "\n",
      "Communauté de 13 : 13\n",
      "Noeud considéré : 14\n",
      "\n",
      "Communauté de 14 : 14\n",
      "Noeud considéré : 15\n",
      "\n",
      "Communauté de 15 : 15\n",
      "On met 15 dans 33\n",
      "\n",
      "Noeud considéré : 16\n",
      "\n",
      "Communauté de 16 : 16\n",
      "On met 16 dans 33\n",
      "\n",
      "Noeud considéré : 17\n",
      "\n",
      "Communauté de 17 : 17\n",
      "Noeud considéré : 18\n",
      "\n",
      "Communauté de 18 : 18\n",
      "Noeud considéré : 19\n",
      "\n",
      "Communauté de 19 : 19\n",
      "On met 19 dans 33\n",
      "\n",
      "Noeud considéré : 20\n",
      "\n",
      "Communauté de 20 : 20\n",
      "On met 20 dans 34\n",
      "\n",
      "Noeud considéré : 21\n",
      "\n",
      "Communauté de 21 : 21\n",
      "On met 21 dans 33\n",
      "\n",
      "Noeud considéré : 22\n",
      "\n",
      "Communauté de 22 : 22\n",
      "Noeud considéré : 23\n",
      "\n",
      "Communauté de 23 : 23\n",
      "On met 23 dans 33\n",
      "\n",
      "Noeud considéré : 24\n",
      "\n",
      "Communauté de 24 : 24\n",
      "On met 24 dans 26\n",
      "\n",
      "Noeud considéré : 25\n",
      "\n",
      "Communauté de 25 : 25\n",
      "On met 25 dans 26\n",
      "\n",
      "Noeud considéré : 26\n",
      "\n",
      "Communauté de 26 : 26\n",
      "On met 26 dans 32\n",
      "\n",
      "Noeud considéré : 27\n",
      "\n",
      "Communauté de 27 : 27\n",
      "On met 27 dans 30\n",
      "\n",
      "Noeud considéré : 28\n",
      "\n",
      "Communauté de 28 : 28\n",
      "On met 28 dans 34\n",
      "\n",
      "Noeud considéré : 29\n",
      "\n",
      "Communauté de 29 : 29\n",
      "On met 29 dans 32\n",
      "\n",
      "Noeud considéré : 30\n",
      "\n",
      "Communauté de 30 : 30\n",
      "On met 30 dans 33\n",
      "\n",
      "Noeud considéré : 31\n",
      "\n",
      "Communauté de 31 : 31\n",
      "On met 31 dans 33\n",
      "\n",
      "Noeud considéré : 32\n",
      "\n",
      "Communauté de 32 : 32\n",
      "On met 32 dans 26\n",
      "\n",
      "Noeud considéré : 33\n",
      "\n",
      "Communauté de 33 : 33\n",
      "On met 33 dans 31\n",
      "\n",
      "Noeud considéré : 34\n",
      "\n",
      "Communauté de 34 : 34\n",
      "On met 34 dans 10\n",
      "\n",
      "15\n",
      "2\n",
      "15\n",
      "Noeud considéré : 1\n",
      "\n",
      "Communauté de 1 : 12\n",
      "On met 1 dans 13\n",
      "\n",
      "Noeud considéré : 2\n",
      "\n",
      "Communauté de 2 : 22\n",
      "On met 2 dans 18\n",
      "\n",
      "Noeud considéré : 3\n",
      "\n",
      "Communauté de 3 : 10\n",
      "On met 3 dans 8\n",
      "\n",
      "Noeud considéré : 4\n",
      "\n",
      "Communauté de 4 : 13\n",
      "On met 4 dans 8\n",
      "\n",
      "Noeud considéré : 5\n",
      "\n",
      "Communauté de 5 : 11\n",
      "Noeud considéré : 6\n",
      "\n",
      "Communauté de 6 : 17\n",
      "On met 6 dans 11\n",
      "\n",
      "Noeud considéré : 7\n",
      "\n",
      "Communauté de 7 : 17\n",
      "Noeud considéré : 8\n",
      "\n",
      "Communauté de 8 : 8\n",
      "Noeud considéré : 9\n",
      "\n",
      "Communauté de 9 : 31\n",
      "On met 9 dans 33\n",
      "\n",
      "Noeud considéré : 10\n",
      "\n",
      "Communauté de 10 : 34\n",
      "Noeud considéré : 11\n",
      "\n",
      "Communauté de 11 : 11\n",
      "Noeud considéré : 12\n",
      "\n",
      "Communauté de 12 : 12\n",
      "Noeud considéré : 13\n",
      "\n",
      "Communauté de 13 : 13\n",
      "Noeud considéré : 14\n",
      "\n",
      "Communauté de 14 : 14\n",
      "Noeud considéré : 15\n",
      "\n",
      "Communauté de 15 : 33\n",
      "On met 15 dans 34\n",
      "\n",
      "Noeud considéré : 16\n",
      "\n",
      "Communauté de 16 : 33\n",
      "On met 16 dans 34\n",
      "\n",
      "Noeud considéré : 17\n",
      "\n",
      "Communauté de 17 : 17\n",
      "Noeud considéré : 18\n",
      "\n",
      "Communauté de 18 : 18\n",
      "Noeud considéré : 19\n",
      "\n",
      "Communauté de 19 : 33\n",
      "On met 19 dans 34\n",
      "\n",
      "Noeud considéré : 20\n",
      "\n",
      "Communauté de 20 : 34\n",
      "Noeud considéré : 21\n",
      "\n",
      "Communauté de 21 : 33\n",
      "On met 21 dans 34\n",
      "\n",
      "Noeud considéré : 22\n",
      "\n",
      "Communauté de 22 : 22\n",
      "Noeud considéré : 23\n",
      "\n",
      "Communauté de 23 : 33\n",
      "On met 23 dans 34\n",
      "\n",
      "Noeud considéré : 24\n",
      "\n",
      "Communauté de 24 : 26\n",
      "On met 24 dans 30\n",
      "\n",
      "Noeud considéré : 25\n",
      "\n",
      "Communauté de 25 : 26\n",
      "On met 25 dans 32\n",
      "\n",
      "Noeud considéré : 26\n",
      "\n",
      "Communauté de 26 : 32\n",
      "Noeud considéré : 27\n",
      "\n",
      "Communauté de 27 : 30\n",
      "On met 27 dans 34\n",
      "\n",
      "Noeud considéré : 28\n",
      "\n",
      "Communauté de 28 : 34\n",
      "Noeud considéré : 29\n",
      "\n",
      "Communauté de 29 : 32\n",
      "On met 29 dans 34\n",
      "\n",
      "Noeud considéré : 30\n",
      "\n",
      "Communauté de 30 : 33\n",
      "On met 30 dans 34\n",
      "\n",
      "Noeud considéré : 31\n",
      "\n",
      "Communauté de 31 : 33\n",
      "On met 31 dans 34\n",
      "\n",
      "Noeud considéré : 32\n",
      "\n",
      "Communauté de 32 : 26\n",
      "On met 32 dans 33\n",
      "\n",
      "Noeud considéré : 33\n",
      "\n",
      "Communauté de 33 : 31\n",
      "On met 33 dans 30\n",
      "\n",
      "Noeud considéré : 34\n",
      "\n",
      "Communauté de 34 : 10\n",
      "On met 34 dans 30\n",
      "\n",
      "12\n",
      "3\n",
      "12\n",
      "Noeud considéré : 1\n",
      "\n",
      "Communauté de 1 : 13\n",
      "On met 1 dans 12\n",
      "\n",
      "Noeud considéré : 2\n",
      "\n",
      "Communauté de 2 : 18\n",
      "On met 2 dans 22\n",
      "\n",
      "Noeud considéré : 3\n",
      "\n",
      "Communauté de 3 : 8\n",
      "On met 3 dans 14\n",
      "\n",
      "Noeud considéré : 4\n",
      "\n",
      "Communauté de 4 : 8\n",
      "On met 4 dans 13\n",
      "\n",
      "Noeud considéré : 5\n",
      "\n",
      "Communauté de 5 : 11\n",
      "Noeud considéré : 6\n",
      "\n",
      "Communauté de 6 : 11\n",
      "On met 6 dans 17\n",
      "\n",
      "Noeud considéré : 7\n",
      "\n",
      "Communauté de 7 : 17\n",
      "Noeud considéré : 8\n",
      "\n",
      "Communauté de 8 : 8\n",
      "Noeud considéré : 9\n",
      "\n",
      "Communauté de 9 : 33\n",
      "Noeud considéré : 10\n",
      "\n",
      "Communauté de 10 : 34\n",
      "Noeud considéré : 11\n",
      "\n",
      "Communauté de 11 : 11\n",
      "Noeud considéré : 12\n",
      "\n",
      "Communauté de 12 : 12\n",
      "Noeud considéré : 13\n",
      "\n",
      "Communauté de 13 : 13\n",
      "Noeud considéré : 14\n",
      "\n",
      "Communauté de 14 : 14\n",
      "Noeud considéré : 15\n",
      "\n",
      "Communauté de 15 : 34\n",
      "On met 15 dans 33\n",
      "\n",
      "Noeud considéré : 16\n",
      "\n",
      "Communauté de 16 : 34\n",
      "On met 16 dans 33\n",
      "\n",
      "Noeud considéré : 17\n",
      "\n",
      "Communauté de 17 : 17\n",
      "Noeud considéré : 18\n",
      "\n",
      "Communauté de 18 : 18\n",
      "Noeud considéré : 19\n",
      "\n",
      "Communauté de 19 : 34\n",
      "On met 19 dans 33\n",
      "\n",
      "Noeud considéré : 20\n",
      "\n",
      "Communauté de 20 : 34\n",
      "Noeud considéré : 21\n",
      "\n",
      "Communauté de 21 : 34\n",
      "On met 21 dans 33\n",
      "\n",
      "Noeud considéré : 22\n",
      "\n",
      "Communauté de 22 : 22\n",
      "Noeud considéré : 23\n",
      "\n",
      "Communauté de 23 : 34\n",
      "On met 23 dans 33\n",
      "\n",
      "Noeud considéré : 24\n",
      "\n",
      "Communauté de 24 : 30\n",
      "On met 24 dans 33\n",
      "\n",
      "Noeud considéré : 25\n",
      "\n",
      "Communauté de 25 : 32\n",
      "Noeud considéré : 26\n",
      "\n",
      "Communauté de 26 : 32\n",
      "Noeud considéré : 27\n",
      "\n",
      "Communauté de 27 : 34\n",
      "On met 27 dans 30\n",
      "\n",
      "Noeud considéré : 28\n",
      "\n",
      "Communauté de 28 : 34\n",
      "Noeud considéré : 29\n",
      "\n",
      "Communauté de 29 : 34\n",
      "On met 29 dans 32\n",
      "\n",
      "Noeud considéré : 30\n",
      "\n",
      "Communauté de 30 : 34\n",
      "On met 30 dans 33\n",
      "\n",
      "Noeud considéré : 31\n",
      "\n",
      "Communauté de 31 : 34\n",
      "On met 31 dans 33\n",
      "\n",
      "Noeud considéré : 32\n",
      "\n",
      "Communauté de 32 : 33\n",
      "Noeud considéré : 33\n",
      "\n",
      "Communauté de 33 : 30\n",
      "On met 33 dans 32\n",
      "\n",
      "Noeud considéré : 34\n",
      "\n",
      "Communauté de 34 : 30\n",
      "12\n",
      "4\n",
      "12\n",
      "Noeud considéré : 1\n",
      "\n",
      "Communauté de 1 : 12\n",
      "On met 1 dans 13\n",
      "\n",
      "Noeud considéré : 2\n",
      "\n",
      "Communauté de 2 : 22\n",
      "On met 2 dans 18\n",
      "\n",
      "Noeud considéré : 3\n",
      "\n",
      "Communauté de 3 : 14\n",
      "On met 3 dans 8\n",
      "\n",
      "Noeud considéré : 4\n",
      "\n",
      "Communauté de 4 : 13\n",
      "On met 4 dans 8\n",
      "\n",
      "Noeud considéré : 5\n",
      "\n",
      "Communauté de 5 : 11\n",
      "Noeud considéré : 6\n",
      "\n",
      "Communauté de 6 : 17\n",
      "On met 6 dans 11\n",
      "\n",
      "Noeud considéré : 7\n",
      "\n",
      "Communauté de 7 : 17\n",
      "Noeud considéré : 8\n",
      "\n",
      "Communauté de 8 : 8\n",
      "Noeud considéré : 9\n",
      "\n",
      "Communauté de 9 : 33\n",
      "Noeud considéré : 10\n",
      "\n",
      "Communauté de 10 : 34\n",
      "Noeud considéré : 11\n",
      "\n",
      "Communauté de 11 : 11\n",
      "Noeud considéré : 12\n",
      "\n",
      "Communauté de 12 : 12\n",
      "Noeud considéré : 13\n",
      "\n",
      "Communauté de 13 : 13\n",
      "Noeud considéré : 14\n",
      "\n",
      "Communauté de 14 : 14\n",
      "Noeud considéré : 15\n",
      "\n",
      "Communauté de 15 : 33\n"
     ]
    }
   ],
   "source": [
    "var a =communities(newgraph)"
   ]
  },
  {
   "cell_type": "code",
   "execution_count": 41,
   "metadata": {},
   "outputs": [
    {
     "output_type": "execute_result",
     "data": {
      "text/plain": [
       "res7: Array[Long] = Array(34, 13, 33, 30, 22, 32, 11, 14, 12, 17, 8, 18)\n"
      ]
     },
     "metadata": {},
     "execution_count": 41
    }
   ],
   "source": [
    "(a.vertices.collect{ case t => t._2._1 }).collect.distinct"
   ]
  },
  {
   "cell_type": "code",
   "execution_count": 205,
   "metadata": {},
   "outputs": [
    {
     "output_type": "execute_result",
     "data": {
      "text/plain": [
       "res58: Boolean = true\n"
      ]
     },
     "metadata": {},
     "execution_count": 205
    }
   ],
   "source": [
    "true"
   ]
  },
  {
   "cell_type": "code",
   "execution_count": null,
   "metadata": {},
   "outputs": [],
   "source": []
  }
 ],
 "metadata": {
  "kernelspec": {
   "display_name": "spylon-kernel",
   "language": "scala",
   "name": "spylon-kernel"
  },
  "language_info": {
   "codemirror_mode": "text/x-scala",
   "file_extension": ".scala",
   "help_links": [
    {
     "text": "MetaKernel Magics",
     "url": "https://metakernel.readthedocs.io/en/latest/source/README.html"
    }
   ],
   "mimetype": "text/x-scala",
   "name": "scala",
   "pygments_lexer": "scala",
   "version": "0.4.1"
  }
 },
 "nbformat": 4,
 "nbformat_minor": 4
}