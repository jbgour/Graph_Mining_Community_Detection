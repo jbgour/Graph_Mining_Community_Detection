{
 "cells": [
  {
   "cell_type": "code",
   "execution_count": 1,
   "metadata": {},
   "outputs": [
    {
     "data": {
      "text/plain": [
       "Intitializing Scala interpreter ..."
      ]
     },
     "metadata": {},
     "output_type": "display_data"
    },
    {
     "data": {
      "text/plain": [
       "Spark Web UI available at http://mbpdejebaptiste:4041\n",
       "SparkContext available as 'sc' (version = 3.0.1, master = local[*], app id = local-1618484183598)\n",
       "SparkSession available as 'spark'\n"
      ]
     },
     "metadata": {},
     "output_type": "display_data"
    },
    {
     "data": {
      "text/plain": [
       "import org.apache.spark._\n",
       "import org.apache.spark.graphx._\n",
       "import org.apache.spark.rdd.RDD\n",
       "import org.apache.spark.sql.functions._\n",
       "import org.apache.spark.sql.expressions.Window\n",
       "import org.apache.spark.sql.Row\n",
       "import org.apache.spark.sql.functions.split\n"
      ]
     },
     "execution_count": 1,
     "metadata": {},
     "output_type": "execute_result"
    }
   ],
   "source": [
    "import org.apache.spark._\n",
    "import org.apache.spark.graphx._\n",
    "import org.apache.spark.rdd.RDD\n",
    "import org.apache.spark.sql.functions._ \n",
    "import org.apache.spark.sql.expressions.Window\n",
    "import org.apache.spark.sql.Row\n",
    "import org.apache.spark.sql.functions.split"
   ]
  },
  {
   "cell_type": "code",
   "execution_count": 51,
   "metadata": {},
   "outputs": [
    {
     "data": {
      "text/plain": [
       "file_number: String = 0\n"
      ]
     },
     "execution_count": 51,
     "metadata": {},
     "output_type": "execute_result"
    }
   ],
   "source": [
    "//choix du fichier\n",
    "var file_number = \"0\""
   ]
  },
  {
   "cell_type": "code",
   "execution_count": 52,
   "metadata": {},
   "outputs": [
    {
     "data": {
      "text/plain": [
       "facebook_text: org.apache.spark.rdd.RDD[String] = data/facebook_data/facebook/0.edges MapPartitionsRDD[95] at textFile at <console>:46\n",
       "df_facebook_text: org.apache.spark.sql.DataFrame = [value: string]\n",
       "df_facebook_text_splitted: org.apache.spark.sql.DataFrame = [srcId: string, dstID: string]\n",
       "facebook_rows: org.apache.spark.rdd.RDD[org.apache.spark.sql.Row] = MapPartitionsRDD[100] at rdd at <console>:54\n",
       "facebook_edges: org.apache.spark.rdd.RDD[org.apache.spark.graphx.Edge[Int]] = MapPartitionsRDD[101] at map at <console>:56\n"
      ]
     },
     "execution_count": 52,
     "metadata": {},
     "output_type": "execute_result"
    }
   ],
   "source": [
    "var facebook_text = sc.textFile(\"data/facebook_data/facebook/\" + file_number + \".edges\")\n",
    "var df_facebook_text = facebook_text.toDF()\n",
    "\n",
    "var df_facebook_text_splitted = df_facebook_text.withColumn(\"_tmp\", split($\"value\", \"\\\\ \")).select(\n",
    "  $\"_tmp\".getItem(0).as(\"srcId\"),\n",
    "  $\"_tmp\".getItem(1).as(\"dstID\"),\n",
    ")\n",
    "\n",
    "val facebook_rows: RDD[Row] = df_facebook_text_splitted.rdd\n",
    "\n",
    "var facebook_edges = facebook_rows.map{ case Row(src:String, dist : String) => Edge(src.toLong, dist.toLong,1)}\n"
   ]
  },
  {
   "cell_type": "code",
   "execution_count": 53,
   "metadata": {},
   "outputs": [
    {
     "data": {
      "text/plain": [
       "facebook_edges: org.apache.spark.rdd.RDD[org.apache.spark.graphx.Edge[Int]] = MapPartitionsRDD[102] at map at <console>:43\n",
       "default_user: (Int, Int) = (0,0)\n",
       "facebook_graph: org.apache.spark.graphx.Graph[(Int, Int),Int] = org.apache.spark.graphx.impl.GraphImpl@6b61630b\n"
      ]
     },
     "execution_count": 53,
     "metadata": {},
     "output_type": "execute_result"
    }
   ],
   "source": [
    "var facebook_edges = facebook_rows.map{ case Row(src:String, dist : String) => Edge(src.toLong, dist.toLong,1)}\n",
    "\n",
    "var default_user=(0, 0)\n",
    "\n",
    "var facebook_graph = Graph.fromEdges(facebook_edges, default_user)\n"
   ]
  },
  {
   "cell_type": "code",
   "execution_count": 54,
   "metadata": {},
   "outputs": [
    {
     "data": {
      "text/plain": [
       "res17: Long = 5038\n"
      ]
     },
     "execution_count": 54,
     "metadata": {},
     "output_type": "execute_result"
    }
   ],
   "source": [
    "facebook_graph.edges.count()"
   ]
  },
  {
   "cell_type": "code",
   "execution_count": 55,
   "metadata": {},
   "outputs": [
    {
     "data": {
      "text/plain": [
       "res18: Long = 333\n"
      ]
     },
     "execution_count": 55,
     "metadata": {},
     "output_type": "execute_result"
    }
   ],
   "source": [
    "facebook_graph.vertices.count()"
   ]
  },
  {
   "cell_type": "code",
   "execution_count": 36,
   "metadata": {
    "scrolled": true
   },
   "outputs": [
    {
     "name": "stdout",
     "output_type": "stream",
     "text": [
      "+-----+-----+----+\n",
      "|srcId|dstId|attr|\n",
      "+-----+-----+----+\n",
      "|  136| 1926|   1|\n",
      "|  136| 1945|   1|\n",
      "|  136| 1972|   1|\n",
      "|  136| 1976|   1|\n",
      "|  136| 1991|   1|\n",
      "|  136| 1995|   1|\n",
      "|  136| 1998|   1|\n",
      "|  136| 2001|   1|\n",
      "|  136| 2007|   1|\n",
      "|  136| 2024|   1|\n",
      "|  136| 2032|   1|\n",
      "|  136| 2039|   1|\n",
      "|  136| 2081|   1|\n",
      "|  136| 2111|   1|\n",
      "|  136| 2128|   1|\n",
      "|  136| 2133|   1|\n",
      "|  136| 2135|   1|\n",
      "|  136| 2153|   1|\n",
      "|  136| 2157|   1|\n",
      "|  136| 2171|   1|\n",
      "+-----+-----+----+\n",
      "only showing top 20 rows\n",
      "\n"
     ]
    }
   ],
   "source": [
    "facebook_graph.edges.toDF().show()"
   ]
  }
 ],
 "metadata": {
  "kernelspec": {
   "display_name": "spylon-kernel",
   "language": "scala",
   "name": "spylon-kernel"
  },
  "language_info": {
   "codemirror_mode": "text/x-scala",
   "file_extension": ".scala",
   "help_links": [
    {
     "text": "MetaKernel Magics",
     "url": "https://metakernel.readthedocs.io/en/latest/source/README.html"
    }
   ],
   "mimetype": "text/x-scala",
   "name": "scala",
   "pygments_lexer": "scala",
   "version": "0.4.1"
  }
 },
 "nbformat": 4,
 "nbformat_minor": 4
}
