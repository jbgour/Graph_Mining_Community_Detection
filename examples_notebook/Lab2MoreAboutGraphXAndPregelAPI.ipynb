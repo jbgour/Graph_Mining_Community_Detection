{
 "cells": [
  {
   "cell_type": "markdown",
   "metadata": {},
   "source": [
    "<img src=\"img/logocs.jpeg\" width=\"200\" align=\"left\">\n",
    "<img src=\"img/logops.jpg\" width=\"200\" align=\"right\">"
   ]
  },
  {
   "cell_type": "markdown",
   "metadata": {},
   "source": [
    "# <center>Learn More about GraphX and Explore Pregel API</center>"
   ]
  },
  {
   "cell_type": "markdown",
   "metadata": {},
   "source": [
    "<img src=\"http://spark.apache.org/docs/latest/img/graphx_logo.png\" width=300/>\n",
    "#### Family Name: \n",
    "#### First Name: "
   ]
  },
  {
   "cell_type": "markdown",
   "metadata": {},
   "source": [
    "## Exploring GraphX Pregel API\n",
    "The purpose of this lab is to learn more about GraphX and to explore the GraphX Pregel API  \n",
    "\n",
    "The ziped file named franceMapData.zip contains 3 file datasets: france_lite.map, france.map, toyData.map.\n",
    "Each line in each file contains the name of the city and its coordinates separated by \":\", for example, A:100:100. Each line after \"--\" contains the name of the city,  the name of a neighbour city and the distance  separated by \":\", for example A:B:140. Here is the graph corresponding to toyData.map and france.map."
   ]
  },
  {
   "cell_type": "markdown",
   "metadata": {},
   "source": [
    "<img src=\"img/toy.png\" width=\"300\" align=\"right\">\n",
    "<img src=\"img/france.png\" width=\"400\" align=\"left\">"
   ]
  },
  {
   "cell_type": "markdown",
   "metadata": {},
   "source": [
    "### A summary list of Graph class operators"
   ]
  },
  {
   "cell_type": "code",
   "execution_count": null,
   "metadata": {},
   "outputs": [],
   "source": [
    "class Graph[VD, ED] {\n",
    "  // Information about the Graph ===================================================================\n",
    "  val numEdges: Long\n",
    "  val numVertices: Long\n",
    "  val inDegrees: VertexRDD[Int]\n",
    "  val outDegrees: VertexRDD[Int]\n",
    "  val degrees: VertexRDD[Int]\n",
    "  // Views of the graph as collections =============================================================\n",
    "  val vertices: VertexRDD[VD]\n",
    "  val edges: EdgeRDD[ED]\n",
    "  val triplets: RDD[EdgeTriplet[VD, ED]]\n",
    "  // Functions for caching graphs ==================================================================\n",
    "  def persist(newLevel: StorageLevel = StorageLevel.MEMORY_ONLY): Graph[VD, ED]\n",
    "  def cache(): Graph[VD, ED]\n",
    "  def unpersistVertices(blocking: Boolean = false): Graph[VD, ED]\n",
    "  // Change the partitioning heuristic  ============================================================\n",
    "  def partitionBy(partitionStrategy: PartitionStrategy): Graph[VD, ED]\n",
    "  // Transform vertex and edge attributes ==========================================================\n",
    "  def mapVertices[VD2](map: (VertexId, VD) => VD2): Graph[VD2, ED]\n",
    "  def mapEdges[ED2](map: Edge[ED] => ED2): Graph[VD, ED2]\n",
    "  def mapEdges[ED2](map: (PartitionID, Iterator[Edge[ED]]) => Iterator[ED2]): Graph[VD, ED2]\n",
    "  def mapTriplets[ED2](map: EdgeTriplet[VD, ED] => ED2): Graph[VD, ED2]\n",
    "  def mapTriplets[ED2](map: (PartitionID, Iterator[EdgeTriplet[VD, ED]]) => Iterator[ED2])\n",
    "    : Graph[VD, ED2]\n",
    "  // Modify the graph structure ====================================================================\n",
    "  def reverse: Graph[VD, ED]\n",
    "  def subgraph(\n",
    "      epred: EdgeTriplet[VD,ED] => Boolean = (x => true),\n",
    "      vpred: (VertexId, VD) => Boolean = ((v, d) => true))\n",
    "    : Graph[VD, ED]\n",
    "  def mask[VD2, ED2](other: Graph[VD2, ED2]): Graph[VD, ED]\n",
    "  def groupEdges(merge: (ED, ED) => ED): Graph[VD, ED]\n",
    "  // Join RDDs with the graph ======================================================================\n",
    "  def joinVertices[U](table: RDD[(VertexId, U)])(mapFunc: (VertexId, VD, U) => VD): Graph[VD, ED]\n",
    "  def outerJoinVertices[U, VD2](other: RDD[(VertexId, U)])\n",
    "      (mapFunc: (VertexId, VD, Option[U]) => VD2)\n",
    "    : Graph[VD2, ED]\n",
    "  // Aggregate information about adjacent triplets =================================================\n",
    "  def collectNeighborIds(edgeDirection: EdgeDirection): VertexRDD[Array[VertexId]]\n",
    "  def collectNeighbors(edgeDirection: EdgeDirection): VertexRDD[Array[(VertexId, VD)]]\n",
    "  def aggregateMessages[Msg: ClassTag](\n",
    "      sendMsg: EdgeContext[VD, ED, Msg] => Unit,\n",
    "      mergeMsg: (Msg, Msg) => Msg,\n",
    "      tripletFields: TripletFields = TripletFields.All)\n",
    "    : VertexRDD[A]\n",
    "  // Iterative graph-parallel computation ==========================================================\n",
    "  def pregel[A](initialMsg: A, maxIterations: Int, activeDirection: EdgeDirection)(\n",
    "      vprog: (VertexId, VD, A) => VD,\n",
    "      sendMsg: EdgeTriplet[VD, ED] => Iterator[(VertexId, A)],\n",
    "      mergeMsg: (A, A) => A)\n",
    "    : Graph[VD, ED]\n",
    "  // Basic graph algorithms ========================================================================\n",
    "  def pageRank(tol: Double, resetProb: Double = 0.15): Graph[Double, Double]\n",
    "  def connectedComponents(): Graph[VertexId, ED]\n",
    "  def triangleCount(): Graph[Int, ED]\n",
    "  def stronglyConnectedComponents(numIter: Int): Graph[VertexId, ED]\n",
    "}"
   ]
  },
  {
   "cell_type": "markdown",
   "metadata": {},
   "source": [
    "### Example using aggragateMessages method to implement  Dijkstra's algorithm."
   ]
  },
  {
   "cell_type": "code",
   "execution_count": null,
   "metadata": {},
   "outputs": [],
   "source": [
    "import org.apache.spark._\n",
    "import org.apache.spark.graphx._\n",
    "import org.apache.spark.rdd.RDD\n",
    "\n",
    "\n",
    "def dijkstra[VD](g:Graph[VD,Int], origin:VertexId) = {\n",
    "  var g2 = g.mapVertices(\n",
    "    (vid,vd) => (false, if (vid == origin) 0 else Double.MaxValue))\n",
    "\n",
    "  for (i <- 1L to g.vertices.count-1) {\n",
    "    val currentVertexId =\n",
    "      g2.vertices.filter(!_._2._1)\n",
    "        .fold((0L,(false,Double.MaxValue)))((a,b) =>\n",
    "           if (a._2._2 < b._2._2) a else b)\n",
    "        ._1\n",
    "\n",
    "    val newDistances = g2.aggregateMessages[Double](\n",
    "        ctx => if (ctx.srcId == currentVertexId)\n",
    "                 ctx.sendToDst(ctx.srcAttr._2 + ctx.attr),\n",
    "        (a,b) => math.min(a,b))\n",
    "\n",
    "    g2 = g2.outerJoinVertices(newDistances)((vid, vd, newSum) =>\n",
    "      (vd._1 || vid == currentVertexId,\n",
    "       math.min(vd._2, newSum.getOrElse(Double.MaxValue))))\n",
    "  }\n",
    "\n",
    "  g.outerJoinVertices(g2.vertices)((vid, vd, dist) =>\n",
    "    (vd, dist.getOrElse((false,Double.MaxValue))._2))\n",
    "}\n",
    "\n",
    "val myVertices = sc.makeRDD(Array((1L, \"A\"), (2L, \"B\"), (3L, \"C\"),\n",
    "  (4L, \"D\"), (5L, \"E\"), (6L, \"F\"), (7L, \"G\")))\n",
    "val myEdges = sc.makeRDD(Array(Edge(1L, 2L, 7), Edge(1L, 4L, 5),\n",
    "  Edge(2L, 3L, 8), Edge(2L, 4L, 9), Edge(2L, 5L, 7),\n",
    "  Edge(3L, 5L, 5), Edge(4L, 5L, 15), Edge(4L, 6L, 6),\n",
    "  Edge(5L, 6L, 8), Edge(5L, 7L, 9), Edge(6L, 7L, 11)))\n",
    "val myGraph = Graph(myVertices, myEdges)\n",
    "\n",
    "val tic = System.nanoTime()\n",
    "val result = dijkstra(myGraph, 1L)\n",
    "val tac = System.nanoTime()\n",
    "println(\"Finding shortest path from A took \"+ (tac-tic)/1e9 + \" seconds.\")\n",
    "result.vertices.map(_._2).collect.foreach(println)"
   ]
  },
  {
   "cell_type": "markdown",
   "metadata": {},
   "source": [
    "### Example using Pregel method to implement  Dijkstra's algorithm."
   ]
  },
  {
   "cell_type": "code",
   "execution_count": null,
   "metadata": {},
   "outputs": [],
   "source": [
    "def findShortestPath(startNodes: List[String], graph:Graph[String, Int]): Graph[Int,  Int] = {\n",
    "   \n",
    "    \n",
    "    val initialMsg = Int.MaxValue\n",
    "    val maxIterations = Int.MaxValue\n",
    "    \n",
    "    val shortestPathGraph = graph.mapVertices((vid, vd) => if (startNodes.contains(vd)) 0 else Int.MaxValue)\n",
    "\n",
    "    val g = shortestPathGraph.pregel(initialMsg, \n",
    "                           maxIterations,\n",
    "                           EdgeDirection.Out)( \n",
    "                           (VertexId, vd, a) => math.min(vd, a),\n",
    "                            et => {\n",
    "                                if(et.srcAttr+et.attr < et.dstAttr){\n",
    "                                Iterator((et.dstId, if(et.srcAttr == Int.MaxValue) Int.MaxValue else et.srcAttr + et.attr))}\n",
    "                                else{Iterator.empty}},\n",
    "                           (a:Int, b:Int) => math.min(a,b))\n",
    "    return g\n",
    "    \n",
    "}\n",
    "\n",
    "val tic = System.nanoTime()\n",
    "val result = findShortestPath(List(\"A\"), myGraph)\n",
    "val tac = System.nanoTime()\n",
    "println(\"Finding shortest path from A took \"+ (tac-tic)/1e9 + \" seconds.\")\n",
    "\n",
    "result.vertices.map(_._2).collect.foreach(println)"
   ]
  },
  {
   "cell_type": "markdown",
   "metadata": {},
   "source": [
    "Exercise 1: Write a method to read (in parallel) this files line by line in order to create RDD vertices and edges and Graph object."
   ]
  },
  {
   "cell_type": "code",
   "execution_count": null,
   "metadata": {},
   "outputs": [],
   "source": [
    "//To Do"
   ]
  },
  {
   "cell_type": "markdown",
   "metadata": {},
   "source": [
    "Exercise 2: Compute the diameter of the created graph using the above methods"
   ]
  },
  {
   "cell_type": "code",
   "execution_count": null,
   "metadata": {},
   "outputs": [],
   "source": [
    "//To Do"
   ]
  },
  {
   "cell_type": "markdown",
   "metadata": {},
   "source": [
    "Exercise 3: Implement PageRank algorithm:  First using pageRank method of Graph then using pregel API."
   ]
  },
  {
   "cell_type": "code",
   "execution_count": null,
   "metadata": {},
   "outputs": [],
   "source": [
    "//To DO"
   ]
  }
 ],
 "metadata": {
  "kernelspec": {
   "display_name": "spylon-kernel",
   "language": "scala",
   "name": "spylon-kernel"
  },
  "language_info": {
   "codemirror_mode": "text/x-scala",
   "file_extension": ".scala",
   "help_links": [
    {
     "text": "MetaKernel Magics",
     "url": "https://metakernel.readthedocs.io/en/latest/source/README.html"
    }
   ],
   "mimetype": "text/x-scala",
   "name": "scala",
   "pygments_lexer": "scala",
   "version": "0.4.1"
  }
 },
 "nbformat": 4,
 "nbformat_minor": 2
}
