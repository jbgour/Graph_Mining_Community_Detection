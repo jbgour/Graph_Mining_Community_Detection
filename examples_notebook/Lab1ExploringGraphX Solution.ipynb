{
 "cells": [
  {
   "cell_type": "markdown",
   "metadata": {},
   "source": [
    "<img src=\"img/logocs.jpeg\" width=\"200\" align=\"left\">\n",
    "<img src=\"img/logops.jpg\" width=\"200\" align=\"right\">"
   ]
  },
  {
   "cell_type": "markdown",
   "metadata": {},
   "source": [
    "# <center>Introduction to Resilient Distributed Property Graph</center>"
   ]
  },
  {
   "cell_type": "markdown",
   "metadata": {},
   "source": [
    "<img src=\"http://spark.apache.org/docs/latest/img/graphx_logo.png\" width=300/>\n",
    "#### Family Name: \n",
    "#### First Name: "
   ]
  },
  {
   "cell_type": "markdown",
   "metadata": {},
   "source": [
    "\n",
    "## Exploring GraphX\n",
    "### Apache Spark's API for  graph-parallel processing\n",
    "\n",
    "The purpose of this lab is to learn about the GraphX library  to build a simple multi directed graph with Scala and to explore some Graph class methods. "
   ]
  },
  {
   "cell_type": "markdown",
   "metadata": {},
   "source": [
    "First we to  import the following libraries:\n",
    "\n",
    "- org.apache.spark._ \n",
    "- org.apache.spark.graphx._\n",
    "- org.apache.spark.rdd.RDD "
   ]
  },
  {
   "cell_type": "code",
   "execution_count": 1,
   "metadata": {},
   "outputs": [
    {
     "data": {
      "text/plain": [
       "Intitializing Scala interpreter ..."
      ]
     },
     "metadata": {},
     "output_type": "display_data"
    },
    {
     "data": {
      "text/plain": [
       "Spark Web UI available at http://mbp-de-nacera:4040\n",
       "SparkContext available as 'sc' (version = 3.0.1, master = local[*], app id = local-1615882137275)\n",
       "SparkSession available as 'spark'\n"
      ]
     },
     "metadata": {},
     "output_type": "display_data"
    },
    {
     "data": {
      "text/plain": [
       "import org.apache.spark._\n",
       "import org.apache.spark.graphx._\n",
       "import org.apache.spark.rdd.RDD\n"
      ]
     },
     "execution_count": 1,
     "metadata": {},
     "output_type": "execute_result"
    }
   ],
   "source": [
    "import org.apache.spark._\n",
    "import org.apache.spark.graphx._\n",
    "import org.apache.spark.rdd.RDD"
   ]
  },
  {
   "cell_type": "markdown",
   "metadata": {},
   "source": [
    "Now  we  first create the vertices and egdes of our graph as  <code>facebook_vertices</code> and  <code>facebook_edges</code> using <code>Array</code> variables."
   ]
  },
  {
   "cell_type": "code",
   "execution_count": 2,
   "metadata": {},
   "outputs": [
    {
     "data": {
      "text/plain": [
       "facebook_vertices: Array[(Long, (String, String))] = Array((1,(Billy Bill,Person)), (2,(Jacob Johnson,Person)), (3,(Andrew Smith,Person)), (4,(Iron Man Fan Page,Page)), (5,(Captain America Fan Page,Page)))\n",
       "facebook_edges: Array[org.apache.spark.graphx.Edge[String]] = Array(Edge(1,2,Friends), Edge(1,3,Friends), Edge(2,4,Follower), Edge(2,5,Follower), Edge(3,5,Follower))\n"
      ]
     },
     "execution_count": 2,
     "metadata": {},
     "output_type": "execute_result"
    }
   ],
   "source": [
    "val facebook_vertices = Array((1L, (\"Billy Bill\", \"Person\")), (2L, (\"Jacob Johnson\", \"Person\")), (3L, (\"Andrew Smith\", \"Person\")), (4L, (\"Iron Man Fan Page\", \"Page\")), (5L, (\"Captain America Fan Page\", \"Page\")))\n",
    "val facebook_edges = Array(Edge(1L, 2L, \"Friends\"), Edge(1L, 3L, \"Friends\"), Edge(2L, 4L, \"Follower\"), Edge(2L, 5L, \"Follower\"), Edge(3L, 5L, \"Follower\"))\n"
   ]
  },
  {
   "cell_type": "markdown",
   "metadata": {},
   "source": [
    "### A summary list of Graph class operators"
   ]
  },
  {
   "cell_type": "code",
   "execution_count": null,
   "metadata": {},
   "outputs": [],
   "source": [
    "class Graph[VD, ED] {\n",
    "  // Information about the Graph ===================================================================\n",
    "  val numEdges: Long\n",
    "  val numVertices: Long\n",
    "  val inDegrees: VertexRDD[Int]\n",
    "  val outDegrees: VertexRDD[Int]\n",
    "  val degrees: VertexRDD[Int]\n",
    "  // Views of the graph as collections =============================================================\n",
    "  val vertices: VertexRDD[VD]\n",
    "  val edges: EdgeRDD[ED]\n",
    "  val triplets: RDD[EdgeTriplet[VD, ED]]\n",
    "  // Functions for caching graphs ==================================================================\n",
    "  def persist(newLevel: StorageLevel = StorageLevel.MEMORY_ONLY): Graph[VD, ED]\n",
    "  def cache(): Graph[VD, ED]\n",
    "  def unpersistVertices(blocking: Boolean = false): Graph[VD, ED]\n",
    "  // Change the partitioning heuristic  ============================================================\n",
    "  def partitionBy(partitionStrategy: PartitionStrategy): Graph[VD, ED]\n",
    "  // Transform vertex and edge attributes ==========================================================\n",
    "  def mapVertices[VD2](map: (VertexId, VD) => VD2): Graph[VD2, ED]\n",
    "  def mapEdges[ED2](map: Edge[ED] => ED2): Graph[VD, ED2]\n",
    "  def mapEdges[ED2](map: (PartitionID, Iterator[Edge[ED]]) => Iterator[ED2]): Graph[VD, ED2]\n",
    "  def mapTriplets[ED2](map: EdgeTriplet[VD, ED] => ED2): Graph[VD, ED2]\n",
    "  def mapTriplets[ED2](map: (PartitionID, Iterator[EdgeTriplet[VD, ED]]) => Iterator[ED2])\n",
    "    : Graph[VD, ED2]\n",
    "  // Modify the graph structure ====================================================================\n",
    "  def reverse: Graph[VD, ED]\n",
    "  def subgraph(\n",
    "      epred: EdgeTriplet[VD,ED] => Boolean = (x => true),\n",
    "      vpred: (VertexId, VD) => Boolean = ((v, d) => true))\n",
    "    : Graph[VD, ED]\n",
    "  def mask[VD2, ED2](other: Graph[VD2, ED2]): Graph[VD, ED]\n",
    "  def groupEdges(merge: (ED, ED) => ED): Graph[VD, ED]\n",
    "  // Join RDDs with the graph ======================================================================\n",
    "  def joinVertices[U](table: RDD[(VertexId, U)])(mapFunc: (VertexId, VD, U) => VD): Graph[VD, ED]\n",
    "  def outerJoinVertices[U, VD2](other: RDD[(VertexId, U)])\n",
    "      (mapFunc: (VertexId, VD, Option[U]) => VD2)\n",
    "    : Graph[VD2, ED]\n",
    "  // Aggregate information about adjacent triplets =================================================\n",
    "  def collectNeighborIds(edgeDirection: EdgeDirection): VertexRDD[Array[VertexId]]\n",
    "  def collectNeighbors(edgeDirection: EdgeDirection): VertexRDD[Array[(VertexId, VD)]]\n",
    "  def aggregateMessages[Msg: ClassTag](\n",
    "      sendMsg: EdgeContext[VD, ED, Msg] => Unit,\n",
    "      mergeMsg: (Msg, Msg) => Msg,\n",
    "      tripletFields: TripletFields = TripletFields.All)\n",
    "    : VertexRDD[A]\n",
    "  // Iterative graph-parallel computation ==========================================================\n",
    "  def pregel[A](initialMsg: A, maxIterations: Int, activeDirection: EdgeDirection)(\n",
    "      vprog: (VertexId, VD, A) => VD,\n",
    "      sendMsg: EdgeTriplet[VD, ED] => Iterator[(VertexId, A)],\n",
    "      mergeMsg: (A, A) => A)\n",
    "    : Graph[VD, ED]\n",
    "  // Basic graph algorithms ========================================================================\n",
    "  def pageRank(tol: Double, resetProb: Double = 0.15): Graph[Double, Double]\n",
    "  def connectedComponents(): Graph[VertexId, ED]\n",
    "  def triangleCount(): Graph[Int, ED]\n",
    "  def stronglyConnectedComponents(numIter: Int): Graph[VertexId, ED]\n",
    "}"
   ]
  },
  {
   "cell_type": "markdown",
   "metadata": {},
   "source": [
    "### Question 1:\n",
    "Now, we need to create the object Graph. Create RDD vertices <code>facebook_RDD_vertices</code> and edges <code>facebook_RDD_edges</code> to be able to build the object Graph. Define a <code>default_user</code> user which will be defaulty connected to any edge with missing vertex.\n",
    "\n",
    "As a reminder, we have a SparkContext called <code>sc</code>. What happens when <code>sc</code> is used?"
   ]
  },
  {
   "cell_type": "code",
   "execution_count": 3,
   "metadata": {},
   "outputs": [
    {
     "data": {
      "text/plain": [
       "facebook_RDD_vertices: org.apache.spark.rdd.RDD[(Long, (String, String))] = ParallelCollectionRDD[0] at parallelize at <console>:38\n",
       "facebook_RDD_edges: org.apache.spark.rdd.RDD[org.apache.spark.graphx.Edge[String]] = ParallelCollectionRDD[1] at parallelize at <console>:39\n",
       "default_user: (String, String) = (Missing,Person)\n",
       "myFacebookGraph: org.apache.spark.graphx.Graph[(String, String),String] = org.apache.spark.graphx.impl.GraphImpl@495078e1\n"
      ]
     },
     "execution_count": 3,
     "metadata": {},
     "output_type": "execute_result"
    }
   ],
   "source": [
    "//To DO\n",
    "\n",
    "//val myFacebookGraph = Graph(facebook_RDD_vertices, facebook_RDD_edges,default_user)\n",
    "val facebook_RDD_vertices = sc.parallelize(facebook_vertices)\n",
    "val facebook_RDD_edges = sc.parallelize(facebook_edges)\n",
    "val default_user = (\"Missing\", \"Person\")\n",
    "val myFacebookGraph = Graph(facebook_RDD_vertices, facebook_RDD_edges,default_user)"
   ]
  },
  {
   "cell_type": "markdown",
   "metadata": {},
   "source": [
    "Here's a visual representation to show what the graph should look like:\n",
    "\n",
    "<img src = \"img/rhkiopM.png\">"
   ]
  },
  {
   "cell_type": "markdown",
   "metadata": {},
   "source": [
    "### Question 2:\n",
    "Now, get information about the Graph and vertices, and diffrent  views using vertices, edges and triplets methods. Compute the maximum and the minimum out and in degrees."
   ]
  },
  {
   "cell_type": "code",
   "execution_count": 5,
   "metadata": {
    "scrolled": true
   },
   "outputs": [
    {
     "name": "stdout",
     "output_type": "stream",
     "text": [
      "(3,(Andrew Smith,Person))(2,(Jacob Johnson,Person))(1,(Billy Bill,Person))(5,(Captain America Fan Page,Page))(4,(Iron Man Fan Page,Page))\n",
      "Edge(1,2,Friends)Edge(1,3,Friends)Edge(2,4,Follower)Edge(2,5,Follower)Edge(3,5,Follower)\n",
      "((1,(Billy Bill,Person)),(2,(Jacob Johnson,Person)),Friends)((2,(Jacob Johnson,Person)),(5,(Captain America Fan Page,Page)),Follower)((3,(Andrew Smith,Person)),(5,(Captain America Fan Page,Page)),Follower)((1,(Billy Bill,Person)),(3,(Andrew Smith,Person)),Friends)((2,(Jacob Johnson,Person)),(4,(Iron Man Fan Page,Page)),Follower)(3,1)(5,2)"
     ]
    },
    {
     "data": {
      "text/plain": [
       "min: (a: (org.apache.spark.graphx.VertexId, Int), b: (org.apache.spark.graphx.VertexId, Int))(org.apache.spark.graphx.VertexId, Int)\n",
       "max: (a: (org.apache.spark.graphx.VertexId, Int), b: (org.apache.spark.graphx.VertexId, Int))(org.apache.spark.graphx.VertexId, Int)\n",
       "minInDegree: (org.apache.spark.graphx.VertexId, Int) = (3,1)\n",
       "maxInDegree: (org.apache.spark.graphx.VertexId, Int) = (5,2)\n"
      ]
     },
     "execution_count": 5,
     "metadata": {},
     "output_type": "execute_result"
    }
   ],
   "source": [
    "//To Do\n",
    "//vertices\n",
    "myFacebookGraph.vertices.foreach(print)\n",
    "//edges\n",
    "print('\\n')\n",
    "myFacebookGraph.edges.foreach(print)\n",
    "print('\\n')\n",
    "//triplets\n",
    "myFacebookGraph.triplets.foreach(print)\n",
    "\n",
    "// Define a reduce operation to compute the highest and lowest degree vertex\n",
    "def min(a: (VertexId, Int), b: (VertexId, Int)): (VertexId, Int) = {\n",
    "  if (a._2 < b._2) a else b\n",
    "}\n",
    "\n",
    "def max(a: (VertexId, Int), b: (VertexId, Int)): (VertexId, Int) = {\n",
    "  if (a._2 > b._2) a else b\n",
    "}\n",
    "\n",
    "//minimum in degrees\n",
    "val minInDegree: (VertexId, Int) = myFacebookGraph.inDegrees.reduce(min)\n",
    "print(minInDegree)\n",
    "\n",
    "\n",
    "//maximum in degrees\n",
    "val maxInDegree: (VertexId, Int)  = myFacebookGraph.inDegrees.reduce(max)\n",
    "print(maxInDegree)"
   ]
  },
  {
   "cell_type": "markdown",
   "metadata": {},
   "source": [
    "### Question 3:\n",
    "\n",
    "Use the filter function to find persons  who follow the \"Captain America Fan Page\"."
   ]
  },
  {
   "cell_type": "code",
   "execution_count": 14,
   "metadata": {},
   "outputs": [
    {
     "name": "stdout",
     "output_type": "stream",
     "text": [
      "(3,(Andrew Smith,Person))\n",
      "(2,(Jacob Johnson,Person))\n",
      " \n",
      " Another way : Who follow Captain America Fan Page\n",
      "Jacob Johnson,Andrew Smith\n"
     ]
    },
    {
     "data": {
      "text/plain": [
       "captainIds: Array[org.apache.spark.graphx.VertexId] = Array(5)\n",
       "captainEdges: org.apache.spark.rdd.RDD[org.apache.spark.graphx.Edge[String]] = MapPartitionsRDD[129] at filter at <console>:47\n",
       "captainFollowers: Array[org.apache.spark.graphx.VertexId] = Array(2, 3)\n",
       "captainVertices: org.apache.spark.graphx.VertexRDD[(String, String)] = VertexRDDImpl[132] at RDD at VertexRDD.scala:57\n",
       "idForFanPage: org.apache.spark.graphx.VertexId = 5\n",
       "personIds: org.apache.spark.rdd.RDD[(org.apache.spark.graphx.VertexId, org.apache.spark.graphx.Edge[String])] = MapPartitionsRDD[137] at map at <console>:56\n",
       "followingUsers: String = Jacob Johnson,Andrew Smith\n"
      ]
     },
     "execution_count": 14,
     "metadata": {},
     "output_type": "execute_result"
    }
   ],
   "source": [
    "//To Do\n",
    "//get ids for captain america nodes\n",
    "val captainIds = myFacebookGraph.vertices.filter{case (id, (name, pos)) => name == \"Captain America Fan Page\"}.\n",
    "                    map{case (id, (_, _)) => id}.collect()\n",
    "\n",
    "//select the edges \"follower\"\n",
    "val captainEdges = myFacebookGraph.edges.filter { case Edge(src, dst, prop) => captainIds.contains(dst)}\n",
    "\n",
    "//print the src id of the vertices\n",
    "val captainFollowers = captainEdges.map{case Edge(src, dst, prop) => src}.collect()\n",
    "val captainVertices = myFacebookGraph.vertices.filter{case (id, (_, _)) => captainFollowers.contains(id)}\n",
    "captainVertices.foreach(println)  \n",
    "\n",
    "//Another way using join\n",
    "val idForFanPage = myFacebookGraph.vertices.filter(x => x._2._1 == \"Captain America Fan Page\").map(x => x._1).collect()(0)\n",
    "val personIds = myFacebookGraph.edges.filter(x => x.attr == \"Follower\" && x.dstId == idForFanPage).map(x => (x.srcId, x))\n",
    "val followingUsers = personIds.join(myFacebookGraph.vertices).map(x => x._2._2._1).collect().mkString(\",\")\n",
    "println(\" \\n Another way : Who follow Captain America Fan Page\")\n",
    "println(followingUsers)"
   ]
  },
  {
   "cell_type": "markdown",
   "metadata": {},
   "source": [
    "However, there is an easier way to create views using filter on triplets. "
   ]
  },
  {
   "cell_type": "code",
   "execution_count": 16,
   "metadata": {},
   "outputs": [
    {
     "name": "stdout",
     "output_type": "stream",
     "text": [
      "Jacob Johnson, Andrew Smith follow Captain America Fan Page\n"
     ]
    },
    {
     "data": {
      "text/plain": [
       "followingUsers: String = Jacob Johnson, Andrew Smith\n"
      ]
     },
     "execution_count": 16,
     "metadata": {},
     "output_type": "execute_result"
    }
   ],
   "source": [
    "//Using triplets\n",
    "val followingUsers = myFacebookGraph.triplets.filter(x => x.dstAttr._1 == \"Captain America Fan Page\").filter(x => x.attr == \"Follower\" && x.srcAttr._2 == \"Person\").map(x => x.srcAttr._1).collect().mkString(\", \")\n",
    "println(followingUsers + \" follow Captain America Fan Page\")"
   ]
  },
  {
   "cell_type": "markdown",
   "metadata": {},
   "source": [
    "### Question 4:\n",
    "Transform vertex and edge attributes using mapVertices, mapEdges or mapTriplets methods. For instance, convert edge attributes to friendof, followerof, and include user or page popularity to graph (popularity could be defined as the number of friends or followers)."
   ]
  },
  {
   "cell_type": "code",
   "execution_count": 17,
   "metadata": {},
   "outputs": [
    {
     "name": "stdout",
     "output_type": "stream",
     "text": [
      "Edge(2,4,Follower of)\n",
      "Edge(2,5,Follower of)\n",
      "Edge(3,5,Follower of)\n",
      "Edge(1,2,Friends of)\n",
      "Edge(1,3,Friends of)\n",
      "\n",
      "Edge(1,3,Friends)\n",
      "Edge(1,2,Friends)\n",
      "Edge(2,5,Follower)\n",
      "Edge(3,5,Follower)\n",
      "Edge(2,4,Follower)\n"
     ]
    },
    {
     "data": {
      "text/plain": [
       "newGraph: org.apache.spark.graphx.Graph[(String, String),String] = org.apache.spark.graphx.impl.GraphImpl@10a134d2\n",
       "newGraph2: org.apache.spark.graphx.Graph[(String, String),String] = org.apache.spark.graphx.impl.GraphImpl@21fd664c\n",
       "newGraph3: org.apache.spark.graphx.Graph[(String, String),String] = org.apache.spark.graphx.impl.GraphImpl@15c73f0a\n"
      ]
     },
     "execution_count": 17,
     "metadata": {},
     "output_type": "execute_result"
    }
   ],
   "source": [
    "\n",
    "//convert the vertex labels to lower case\n",
    "val newGraph = myFacebookGraph.mapVertices((id, attr) => (attr._1.toLowerCase(), attr._2))\n",
    "\n",
    "// newGraph.vertices.foreach(println)\n",
    "\n",
    "//convert edge attributes to friendof, followerof, etc. \n",
    "val newGraph2 = myFacebookGraph.mapEdges(e => e.attr + \" of\")\n",
    "\n",
    "// newGraph2.edges.foreach(println)\n",
    "\n",
    "//do the same operation using triplets\n",
    "val newGraph3 = myFacebookGraph.mapTriplets(triplet => triplet.attr + \" of\")\n",
    "newGraph3.edges.foreach(println)\n",
    "\n",
    "print('\\n')\n",
    "\n",
    "myFacebookGraph.edges.foreach(println)"
   ]
  },
  {
   "cell_type": "markdown",
   "metadata": {},
   "source": [
    "### Question 5\n",
    "Modify the graph structure using join methods. Create another graph to be merged with the above graph."
   ]
  },
  {
   "cell_type": "code",
   "execution_count": 19,
   "metadata": {},
   "outputs": [
    {
     "name": "stdout",
     "output_type": "stream",
     "text": [
      "Changed Graph(4,(Iron Man Fan Page,Page))\n",
      "(3,(Ledia,Person))\n",
      "(1,(Andrea,Person))\n",
      "(5,(Captain America Fan Page,Page))\n",
      "(2,(Tamara,Person))\n",
      "Merged Graph(1,(Andrea,Person))\n",
      "(5,(Captain America Fan Page,Page))\n",
      "(3,(Ledia,Person))\n",
      "(10,(Thor Fan page,Page))\n",
      "(2,(Tamara,Person))\n",
      "(4,(Iron Man Fan Page,Page))\n"
     ]
    },
    {
     "data": {
      "text/plain": [
       "facebook_rdd_vertices2: org.apache.spark.rdd.RDD[(Long, (String, String))] = ParallelCollectionRDD[195] at parallelize at <console>:41\n",
       "facebook_rdd_edges2: org.apache.spark.rdd.RDD[org.apache.spark.graphx.Edge[String]] = ParallelCollectionRDD[196] at parallelize at <console>:42\n",
       "myFacebookGraph2: org.apache.spark.graphx.Graph[(String, String),String] = org.apache.spark.graphx.impl.GraphImpl@61d4e50b\n",
       "joinedGraph: org.apache.spark.graphx.Graph[(String, String),String] = org.apache.spark.graphx.impl.GraphImpl@182499b3\n",
       "mergedGraph: org.apache.spark.graphx.Graph[(String, String),String] = org.apache.spark.graphx.impl.GraphImpl@2de8014b\n"
      ]
     },
     "execution_count": 19,
     "metadata": {},
     "output_type": "execute_result"
    }
   ],
   "source": [
    "\n",
    "//define another graph\n",
    "val facebook_rdd_vertices2 = sc.parallelize(Array((1L, (\"Andrea\", \"Person\")), (2L, (\"Tamara\", \"Person\")), (3L, (\"Ledia\", \"Person\")), (4L, (\"Iron Man Fan Page\", \"Page\")), (5L, (\"Captain America Fan Page\", \"Page\")), (10L, (\"Thor Fan page\", \"Page\"))))\n",
    "val facebook_rdd_edges2 = sc.parallelize(Array(Edge(1L, 2L, \"Friends\"), Edge(1L, 3L, \"Friends\"), Edge(2L, 4L, \"Follower\"), Edge(2L, 5L, \"Follower\"), Edge(3L, 5L, \"Follower\"), Edge(3L, 10L, \"Follower\"), Edge(4L, 10L, \"Follower\")))\n",
    "val myFacebookGraph2 = Graph(facebook_rdd_vertices2, facebook_rdd_edges2,(\"Akash\", \"Person\"))\n",
    "\n",
    "//we could change names based on myFacebookGraph2\n",
    "val joinedGraph = myFacebookGraph.joinVertices(myFacebookGraph2.vertices)(\n",
    "  (id, property, new_property) => new_property)\n",
    "\n",
    "print(\"Changed Graph\")\n",
    "joinedGraph.vertices.foreach(println)\n",
    "\n",
    "                                            \n",
    "//merge myFacebookGraph2 and joinedGraph\n",
    "val mergedGraph = Graph(\n",
    "    joinedGraph.vertices.union(myFacebookGraph2.vertices),\n",
    "    joinedGraph.edges.union(myFacebookGraph2.edges)\n",
    ")\n",
    "\n",
    "print(\"Merged Graph\")\n",
    "mergedGraph.vertices.foreach(println)                                           "
   ]
  },
  {
   "cell_type": "code",
   "execution_count": null,
   "metadata": {},
   "outputs": [],
   "source": []
  }
 ],
 "metadata": {
  "kernelspec": {
   "display_name": "spylon-kernel",
   "language": "scala",
   "name": "spylon-kernel"
  },
  "language_info": {
   "codemirror_mode": "text/x-scala",
   "file_extension": ".scala",
   "help_links": [
    {
     "text": "MetaKernel Magics",
     "url": "https://metakernel.readthedocs.io/en/latest/source/README.html"
    }
   ],
   "mimetype": "text/x-scala",
   "name": "scala",
   "pygments_lexer": "scala",
   "version": "0.4.1"
  },
  "widgets": {
   "state": {},
   "version": "1.1.2"
  }
 },
 "nbformat": 4,
 "nbformat_minor": 2
}
