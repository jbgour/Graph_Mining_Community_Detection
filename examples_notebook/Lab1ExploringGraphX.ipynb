{
 "cells": [
  {
   "cell_type": "markdown",
   "metadata": {},
   "source": [
    "<img src=\"img/logocs.jpeg\" width=\"200\" align=\"left\">\n",
    "<img src=\"img/logops.jpg\" width=\"200\" align=\"right\">"
   ]
  },
  {
   "cell_type": "markdown",
   "metadata": {},
   "source": [
    "# <center>Introduction to Resilient Distributed Property Graph</center>"
   ]
  },
  {
   "cell_type": "markdown",
   "metadata": {},
   "source": [
    "<img src=\"http://spark.apache.org/docs/latest/img/graphx_logo.png\" width=300/>\n",
    "#### Family Name: \n",
    "#### First Name: "
   ]
  },
  {
   "cell_type": "markdown",
   "metadata": {},
   "source": [
    "\n",
    "## Exploring GraphX\n",
    "### Apache Spark's API for  graph-parallel processing\n",
    "\n",
    "The purpose of this lab is to learn about the GraphX library  to build a simple multi directed graph with Scala and to explore some Graph class methods. "
   ]
  },
  {
   "cell_type": "markdown",
   "metadata": {},
   "source": [
    "First we to  import the following libraries:\n",
    "\n",
    "- org.apache.spark._ \n",
    "- org.apache.spark.graphx._\n",
    "- org.apache.spark.rdd.RDD "
   ]
  },
  {
   "cell_type": "code",
   "execution_count": 3,
   "metadata": {},
   "outputs": [
    {
     "data": {
      "text/plain": [
       "import org.apache.spark._\n",
       "import org.apache.spark.graphx._\n",
       "import org.apache.spark.rdd.RDD\n"
      ]
     },
     "execution_count": 3,
     "metadata": {},
     "output_type": "execute_result"
    }
   ],
   "source": [
    "import org.apache.spark._\n",
    "import org.apache.spark.graphx._\n",
    "import org.apache.spark.rdd.RDD"
   ]
  },
  {
   "cell_type": "markdown",
   "metadata": {},
   "source": [
    "Now  we  first create the vertices and egdes of our graph as  <code>facebook_vertices</code> and  <code>facebook_edges</code> using <code>Array</code> variables."
   ]
  },
  {
   "cell_type": "code",
   "execution_count": 4,
   "metadata": {},
   "outputs": [
    {
     "data": {
      "text/plain": [
       "facebook_vertices: Array[(Long, (String, String))] = Array((1,(Billy Bill,Person)), (2,(Jacob Johnson,Person)), (3,(Andrew Smith,Person)), (4,(Iron Man Fan Page,Page)), (5,(Captain America Fan Page,Page)))\n",
       "facebook_edges: Array[org.apache.spark.graphx.Edge[String]] = Array(Edge(1,2,Friends), Edge(1,3,Friends), Edge(2,4,Follower), Edge(2,5,Follower), Edge(3,5,Follower))\n"
      ]
     },
     "execution_count": 4,
     "metadata": {},
     "output_type": "execute_result"
    }
   ],
   "source": [
    "val facebook_vertices = Array((1L, (\"Billy Bill\", \"Person\")), (2L, (\"Jacob Johnson\", \"Person\")), (3L, (\"Andrew Smith\", \"Person\")), (4L, (\"Iron Man Fan Page\", \"Page\")), (5L, (\"Captain America Fan Page\", \"Page\")))\n",
    "val facebook_edges = Array(Edge(1L, 2L, \"Friends\"), Edge(1L, 3L, \"Friends\"), Edge(2L, 4L, \"Follower\"), Edge(2L, 5L, \"Follower\"), Edge(3L, 5L, \"Follower\"))\n"
   ]
  },
  {
   "cell_type": "markdown",
   "metadata": {},
   "source": [
    "### A summary list of Graph class operators"
   ]
  },
  {
   "cell_type": "code",
   "execution_count": 5,
   "metadata": {},
   "outputs": [
    {
     "ename": "<console>",
     "evalue": "28: error: not found: type StorageLevel",
     "output_type": "error",
     "traceback": [
      "<console>:28: error: not found: type StorageLevel",
      "         def persist(newLevel: StorageLevel = StorageLevel.MEMORY_ONLY): Graph[VD, ED]",
      "                               ^",
      "<console>:28: error: not found: value StorageLevel",
      "         def persist(newLevel: StorageLevel = StorageLevel.MEMORY_ONLY): Graph[VD, ED]",
      "                                              ^",
      "<console>:60: error: not found: type A",
      "           : VertexRDD[A]",
      "                       ^",
      "<console>:56: error: not found: type ClassTag",
      "         def aggregateMessages[Msg: ClassTag](",
      "                                    ^",
      ""
     ]
    }
   ],
   "source": [
    "class Graph[VD, ED] {\n",
    "  // Information about the Graph ===================================================================\n",
    "  val numEdges: Long\n",
    "  val numVertices: Long\n",
    "  val inDegrees: VertexRDD[Int]\n",
    "  val outDegrees: VertexRDD[Int]\n",
    "  val degrees: VertexRDD[Int]\n",
    "  // Views of the graph as collections =============================================================\n",
    "  val vertices: VertexRDD[VD]\n",
    "  val edges: EdgeRDD[ED]\n",
    "  val triplets: RDD[EdgeTriplet[VD, ED]]\n",
    "  // Functions for caching graphs ==================================================================\n",
    "  def persist(newLevel: StorageLevel = StorageLevel.MEMORY_ONLY): Graph[VD, ED]\n",
    "  def cache(): Graph[VD, ED]\n",
    "  def unpersistVertices(blocking: Boolean = false): Graph[VD, ED]\n",
    "  // Change the partitioning heuristic  ============================================================\n",
    "  def partitionBy(partitionStrategy: PartitionStrategy): Graph[VD, ED]\n",
    "  // Transform vertex and edge attributes ==========================================================\n",
    "  def mapVertices[VD2](map: (VertexId, VD) => VD2): Graph[VD2, ED]\n",
    "  def mapEdges[ED2](map: Edge[ED] => ED2): Graph[VD, ED2]\n",
    "  def mapEdges[ED2](map: (PartitionID, Iterator[Edge[ED]]) => Iterator[ED2]): Graph[VD, ED2]\n",
    "  def mapTriplets[ED2](map: EdgeTriplet[VD, ED] => ED2): Graph[VD, ED2]\n",
    "  def mapTriplets[ED2](map: (PartitionID, Iterator[EdgeTriplet[VD, ED]]) => Iterator[ED2])\n",
    "    : Graph[VD, ED2]\n",
    "  // Modify the graph structure ====================================================================\n",
    "  def reverse: Graph[VD, ED]\n",
    "  def subgraph(\n",
    "      epred: EdgeTriplet[VD,ED] => Boolean = (x => true),\n",
    "      vpred: (VertexId, VD) => Boolean = ((v, d) => true))\n",
    "    : Graph[VD, ED]\n",
    "  def mask[VD2, ED2](other: Graph[VD2, ED2]): Graph[VD, ED]\n",
    "  def groupEdges(merge: (ED, ED) => ED): Graph[VD, ED]\n",
    "  // Join RDDs with the graph ======================================================================\n",
    "  def joinVertices[U](table: RDD[(VertexId, U)])(mapFunc: (VertexId, VD, U) => VD): Graph[VD, ED]\n",
    "  def outerJoinVertices[U, VD2](other: RDD[(VertexId, U)])\n",
    "      (mapFunc: (VertexId, VD, Option[U]) => VD2)\n",
    "    : Graph[VD2, ED]\n",
    "  // Aggregate information about adjacent triplets =================================================\n",
    "  def collectNeighborIds(edgeDirection: EdgeDirection): VertexRDD[Array[VertexId]]\n",
    "  def collectNeighbors(edgeDirection: EdgeDirection): VertexRDD[Array[(VertexId, VD)]]\n",
    "  def aggregateMessages[Msg: ClassTag](\n",
    "      sendMsg: EdgeContext[VD, ED, Msg] => Unit,\n",
    "      mergeMsg: (Msg, Msg) => Msg,\n",
    "      tripletFields: TripletFields = TripletFields.All)\n",
    "    : VertexRDD[A]\n",
    "  // Iterative graph-parallel computation ==========================================================\n",
    "  def pregel[A](initialMsg: A, maxIterations: Int, activeDirection: EdgeDirection)(\n",
    "      vprog: (VertexId, VD, A) => VD,\n",
    "      sendMsg: EdgeTriplet[VD, ED] => Iterator[(VertexId, A)],\n",
    "      mergeMsg: (A, A) => A)\n",
    "    : Graph[VD, ED]\n",
    "  // Basic graph algorithms ========================================================================\n",
    "  def pageRank(tol: Double, resetProb: Double = 0.15): Graph[Double, Double]\n",
    "  def connectedComponents(): Graph[VertexId, ED]\n",
    "  def triangleCount(): Graph[Int, ED]\n",
    "  def stronglyConnectedComponents(numIter: Int): Graph[VertexId, ED]\n",
    "}"
   ]
  },
  {
   "cell_type": "markdown",
   "metadata": {},
   "source": [
    "### Question 1:\n",
    "Now, we need to create the object Graph. Create RDD vertices <code>facebook_RDD_vertices</code> and edges <code>facebook_RDD_edges</code> to be able to build the object Graph. Define a <code>default_user</code> user which will be defaulty connected to any edge with missing vertex.\n",
    "\n",
    "As a reminder, we have a SparkContext called <code>sc</code>. What happens when <code>sc</code> is used?"
   ]
  },
  {
   "cell_type": "code",
   "execution_count": 12,
   "metadata": {},
   "outputs": [
    {
     "data": {
      "text/plain": [
       "facebook_RDD_vertices: org.apache.spark.rdd.RDD[(Long, (String, String))] = ParallelCollectionRDD[4] at parallelize at <console>:43\n",
       "facebook_RDD_edges: org.apache.spark.rdd.RDD[org.apache.spark.graphx.Edge[String]] = ParallelCollectionRDD[5] at parallelize at <console>:44\n",
       "default_user: (String, String) = (Default User,Missing)\n",
       "myFacebookGraph: org.apache.spark.graphx.Graph[(String, String),String] = org.apache.spark.graphx.impl.GraphImpl@27433583\n"
      ]
     },
     "execution_count": 12,
     "metadata": {},
     "output_type": "execute_result"
    }
   ],
   "source": [
    "//To DO\n",
    "val facebook_RDD_vertices = sc.parallelize(facebook_vertices)\n",
    "val facebook_RDD_edges = sc.parallelize(facebook_edges)\n",
    "val default_user = (\"Default User\",\"Missing\")\n",
    "\n",
    "val myFacebookGraph = Graph(facebook_RDD_vertices, facebook_RDD_edges,default_user)"
   ]
  },
  {
   "cell_type": "code",
   "execution_count": 20,
   "metadata": {
    "scrolled": false
   },
   "outputs": [
    {
     "name": "stdout",
     "output_type": "stream",
     "text": [
      "+---+--------------------+\n",
      "| _1|                  _2|\n",
      "+---+--------------------+\n",
      "|  1|[Billy Bill, Person]|\n",
      "|  2|[Jacob Johnson, P...|\n",
      "|  3|[Andrew Smith, Pe...|\n",
      "|  4|[Iron Man Fan Pag...|\n",
      "|  5|[Captain America ...|\n",
      "+---+--------------------+\n",
      "\n"
     ]
    }
   ],
   "source": [
    "myFacebookGraph.vertices.toDF.show()"
   ]
  },
  {
   "cell_type": "code",
   "execution_count": 21,
   "metadata": {
    "scrolled": true
   },
   "outputs": [
    {
     "name": "stdout",
     "output_type": "stream",
     "text": [
      "+-----+-----+--------+\n",
      "|srcId|dstId|    attr|\n",
      "+-----+-----+--------+\n",
      "|    1|    2| Friends|\n",
      "|    1|    3| Friends|\n",
      "|    2|    4|Follower|\n",
      "|    2|    5|Follower|\n",
      "|    3|    5|Follower|\n",
      "+-----+-----+--------+\n",
      "\n"
     ]
    }
   ],
   "source": [
    "myFacebookGraph.edges.toDF.show()"
   ]
  },
  {
   "cell_type": "code",
   "execution_count": 25,
   "metadata": {},
   "outputs": [
    {
     "data": {
      "text/plain": [
       "res15: Array[org.apache.spark.graphx.EdgeTriplet[(String, String),String]] = Array(((1,(Billy Bill,Person)),(2,(Jacob Johnson,Person)),Friends), ((1,(Billy Bill,Person)),(3,(Andrew Smith,Person)),Friends), ((2,(Jacob Johnson,Person)),(4,(Iron Man Fan Page,Page)),Follower), ((2,(Jacob Johnson,Person)),(5,(Captain America Fan Page,Page)),Follower), ((3,(Andrew Smith,Person)),(5,(Captain America Fan Page,Page)),Follower))\n"
      ]
     },
     "execution_count": 25,
     "metadata": {},
     "output_type": "execute_result"
    }
   ],
   "source": [
    "myFacebookGraph.triplets.collect"
   ]
  },
  {
   "cell_type": "markdown",
   "metadata": {},
   "source": [
    "Here's a visual representation to show what the graph should look like:\n",
    "\n",
    "<img src = \"img/rhkiopM.png\">"
   ]
  },
  {
   "cell_type": "markdown",
   "metadata": {},
   "source": [
    "### Question 2:\n",
    "Now, get information about the Graph and vertices, and diffrent  views using vertices, edges and triplets methods. Compute the maximum and the minimum out and in degrees."
   ]
  },
  {
   "cell_type": "code",
   "execution_count": 31,
   "metadata": {
    "scrolled": true
   },
   "outputs": [
    {
     "data": {
      "text/plain": [
       "max: (a: (org.apache.spark.graphx.VertexId, Int), b: (org.apache.spark.graphx.VertexId, Int))(org.apache.spark.graphx.VertexId, Int)\n",
       "min: (a: (org.apache.spark.graphx.VertexId, Int), b: (org.apache.spark.graphx.VertexId, Int))(org.apache.spark.graphx.VertexId, Int)\n",
       "maxInDegree: (org.apache.spark.graphx.VertexId, Int) = (5,2)\n",
       "maxOutDegree: (org.apache.spark.graphx.VertexId, Int) = (2,2)\n"
      ]
     },
     "execution_count": 31,
     "metadata": {},
     "output_type": "execute_result"
    }
   ],
   "source": [
    "//To Do\n",
    "// Define a reduce operation to compute the highest degree vertex\n",
    "def max(a: (VertexId, Int), b: (VertexId, Int)): (VertexId, Int) = {\n",
    "  if (a._2 > b._2) a else b\n",
    "}\n",
    "\n",
    "def min(a: (VertexId, Int), b: (VertexId, Int)): (VertexId, Int) = {\n",
    "    if (a._2 > b._2) b else a\n",
    "}\n",
    "\n",
    "// Compute the max degrees\n",
    "val maxInDegree: (VertexId, Int)  = myFacebookGraph.inDegrees.reduce(max)\n",
    "val maxOutDegree: (VertexId, Int) = myFacebookGraph.outDegrees.reduce(max)\n",
    "\n",
    "val minInDegree: (VertexId, Int)  = myFacebookGraph.inDegrees.reduce(min)\n",
    "val minOutDegree: (VertexId, Int)  = myFacebookGraph.inDegrees.reduce(min)"
   ]
  },
  {
   "cell_type": "code",
   "execution_count": 37,
   "metadata": {},
   "outputs": [
    {
     "name": "stdout",
     "output_type": "stream",
     "text": [
      "+---+--------------------------------+\n",
      "|_1 |_2                              |\n",
      "+---+--------------------------------+\n",
      "|1  |[Billy Bill, Person]            |\n",
      "|2  |[Jacob Johnson, Person]         |\n",
      "|3  |[Andrew Smith, Person]          |\n",
      "|4  |[Iron Man Fan Page, Page]       |\n",
      "|5  |[Captain America Fan Page, Page]|\n",
      "+---+--------------------------------+\n",
      "\n"
     ]
    }
   ],
   "source": [
    "myFacebookGraph.vertices.toDF.show(20,false)"
   ]
  },
  {
   "cell_type": "code",
   "execution_count": 38,
   "metadata": {},
   "outputs": [
    {
     "name": "stdout",
     "output_type": "stream",
     "text": [
      "+-----+-----+--------+\n",
      "|srcId|dstId|attr    |\n",
      "+-----+-----+--------+\n",
      "|1    |2    |Friends |\n",
      "|1    |3    |Friends |\n",
      "|2    |4    |Follower|\n",
      "|2    |5    |Follower|\n",
      "|3    |5    |Follower|\n",
      "+-----+-----+--------+\n",
      "\n"
     ]
    }
   ],
   "source": [
    "myFacebookGraph.edges.toDF.show(20,false)"
   ]
  },
  {
   "cell_type": "markdown",
   "metadata": {},
   "source": [
    "### Question 3:\n",
    "\n",
    "Use the filter function to find persons  who follow the \"Captain America Fan Page\"."
   ]
  },
  {
   "cell_type": "code",
   "execution_count": 47,
   "metadata": {},
   "outputs": [
    {
     "name": "stdout",
     "output_type": "stream",
     "text": [
      "+-----+-----+--------+\n",
      "|srcId|dstId|    attr|\n",
      "+-----+-----+--------+\n",
      "|    2|    5|Follower|\n",
      "|    3|    5|Follower|\n",
      "+-----+-----+--------+\n",
      "\n"
     ]
    }
   ],
   "source": [
    "myFacebookGraph.edges.filter{\n",
    "  case Edge(src, dst, prop ) => dst == 5 && prop==\"Follower\"\n",
    "}.toDF.show()’"
   ]
  },
  {
   "cell_type": "markdown",
   "metadata": {},
   "source": [
    "However, there is an easier way to create views using filter on triplets. "
   ]
  },
  {
   "cell_type": "code",
   "execution_count": 53,
   "metadata": {},
   "outputs": [
    {
     "data": {
      "text/plain": [
       "res33: Array[org.apache.spark.graphx.EdgeTriplet[(String, String),String]] = Array(((2,(Jacob Johnson,Person)),(5,(Captain America Fan Page,Page)),Follower), ((3,(Andrew Smith,Person)),(5,(Captain America Fan Page,Page)),Follower))\n"
      ]
     },
     "execution_count": 53,
     "metadata": {},
     "output_type": "execute_result"
    }
   ],
   "source": [
    "myFacebookGraph.triplets.filter(t => t.dstId==5 && t.attr==\"Follower\").collect"
   ]
  },
  {
   "cell_type": "markdown",
   "metadata": {},
   "source": [
    "### Question 4:\n",
    "Transform vertex and edge attributes using mapVertices,  mapEdges or  mapTriplets methods. For instance, convert edge attributes to friendof, followerof, and include user or page popularity to graph (popularity could be defined as the number of friends or followers)."
   ]
  },
  {
   "cell_type": "code",
   "execution_count": 70,
   "metadata": {},
   "outputs": [
    {
     "data": {
      "text/plain": [
       "import shapeless.syntax.std.tuple._\n"
      ]
     },
     "execution_count": 70,
     "metadata": {},
     "output_type": "execute_result"
    }
   ],
   "source": [
    "import shapeless.syntax.std.tuple._\n"
   ]
  },
  {
   "cell_type": "code",
   "execution_count": 75,
   "metadata": {},
   "outputs": [
    {
     "data": {
      "text/plain": [
       "newGraph: org.apache.spark.graphx.Graph[(org.apache.spark.graphx.VertexId, (String, String, String)),String] = org.apache.spark.graphx.impl.GraphImpl@18c69a54\n"
      ]
     },
     "execution_count": 75,
     "metadata": {},
     "output_type": "execute_result"
    }
   ],
   "source": [
    "//To Do\n",
    "val newGraph = myFacebookGraph.mapVertices((id, attr) => (id, attr:+(\"hey\")))\n"
   ]
  },
  {
   "cell_type": "code",
   "execution_count": 76,
   "metadata": {},
   "outputs": [
    {
     "name": "stdout",
     "output_type": "stream",
     "text": [
      "+---+------------------------------------------+\n",
      "|_1 |_2                                        |\n",
      "+---+------------------------------------------+\n",
      "|1  |[1, [Billy Bill, Person, hey]]            |\n",
      "|2  |[2, [Jacob Johnson, Person, hey]]         |\n",
      "|3  |[3, [Andrew Smith, Person, hey]]          |\n",
      "|4  |[4, [Iron Man Fan Page, Page, hey]]       |\n",
      "|5  |[5, [Captain America Fan Page, Page, hey]]|\n",
      "+---+------------------------------------------+\n",
      "\n"
     ]
    }
   ],
   "source": [
    "newGraph.vertices.toDF.show(false)"
   ]
  },
  {
   "cell_type": "markdown",
   "metadata": {},
   "source": [
    "### Question 5\n",
    "Modify the graph structure using join methods. Create another graph to be merged with the above graph."
   ]
  },
  {
   "cell_type": "code",
   "execution_count": 82,
   "metadata": {},
   "outputs": [
    {
     "ename": "<console>",
     "evalue": "44: error: missing parameter type for expanded function ((x$1: <error>) => x$1.$times)",
     "output_type": "error",
     "traceback": [
      "<console>:44: error: missing parameter type for expanded function ((x$1: <error>) => x$1.$times)",
      "       val newGraph = myFacebookGraph.mapVertices((id, attr) => (_*,\"efv\"))",
      "                                                                 ^",
      ""
     ]
    }
   ],
   "source": [
    "//To Do\n",
    "val newGraph = myFacebookGraph.mapVertices((id, attr) => (_*,\"efv\"))\n"
   ]
  },
  {
   "cell_type": "code",
   "execution_count": 79,
   "metadata": {},
   "outputs": [
    {
     "name": "stdout",
     "output_type": "stream",
     "text": [
      "+---+---------------------------------------------------------+\n",
      "|_1 |_2                                                       |\n",
      "+---+---------------------------------------------------------+\n",
      "|1  |[Billy Bill, Billy Bill, efv]                            |\n",
      "|2  |[Jacob Johnson, Jacob Johnson, efv]                      |\n",
      "|3  |[Andrew Smith, Andrew Smith, efv]                        |\n",
      "|4  |[Iron Man Fan Page, Iron Man Fan Page, efv]              |\n",
      "|5  |[Captain America Fan Page, Captain America Fan Page, efv]|\n",
      "+---+---------------------------------------------------------+\n",
      "\n"
     ]
    }
   ],
   "source": [
    "newGraph.vertices.toDF.show(false)"
   ]
  },
  {
   "cell_type": "code",
   "execution_count": 84,
   "metadata": {},
   "outputs": [
    {
     "data": {
      "text/plain": [
       "res46: Array[org.apache.spark.graphx.EdgeTriplet[(String, String, String),String]] = Array(((1,(Billy Bill,Billy Bill,efv)),(2,(Jacob Johnson,Jacob Johnson,efv)),Friends), ((1,(Billy Bill,Billy Bill,efv)),(3,(Andrew Smith,Andrew Smith,efv)),Friends), ((2,(Jacob Johnson,Jacob Johnson,efv)),(4,(Iron Man Fan Page,Iron Man Fan Page,efv)),Follower), ((2,(Jacob Johnson,Jacob Johnson,efv)),(5,(Captain America Fan Page,Captain America Fan Page,efv)),Follower), ((3,(Andrew Smith,Andrew Smith,efv)),(5,(Captain America Fan Page,Captain America Fan Page,efv)),Follower))\n"
      ]
     },
     "execution_count": 84,
     "metadata": {},
     "output_type": "execute_result"
    }
   ],
   "source": [
    "newGraph.triplets.collect"
   ]
  },
  {
   "cell_type": "code",
   "execution_count": null,
   "metadata": {},
   "outputs": [],
   "source": []
  }
 ],
 "metadata": {
  "kernelspec": {
   "display_name": "spylon-kernel",
   "language": "scala",
   "name": "spylon-kernel"
  },
  "language_info": {
   "codemirror_mode": "text/x-scala",
   "file_extension": ".scala",
   "help_links": [
    {
     "text": "MetaKernel Magics",
     "url": "https://metakernel.readthedocs.io/en/latest/source/README.html"
    }
   ],
   "mimetype": "text/x-scala",
   "name": "scala",
   "pygments_lexer": "scala",
   "version": "0.4.1"
  },
  "widgets": {
   "state": {},
   "version": "1.1.2"
  }
 },
 "nbformat": 4,
 "nbformat_minor": 2
}
